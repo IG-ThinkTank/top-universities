{
 "cells": [
  {
   "cell_type": "markdown",
   "id": "71021cc2",
   "metadata": {},
   "source": [
    "# World Top CS Universities [2021]"
   ]
  },
  {
   "cell_type": "markdown",
   "id": "56994961",
   "metadata": {},
   "source": [
    "## Import Modules"
   ]
  },
  {
   "cell_type": "code",
   "execution_count": 1,
   "id": "65141b66",
   "metadata": {},
   "outputs": [],
   "source": [
    "import csv\n",
    "from collections import defaultdict\n",
    "from dataclasses import dataclass\n",
    "from itertools import islice\n",
    "from statistics import mean"
   ]
  },
  {
   "cell_type": "markdown",
   "id": "41acea18",
   "metadata": {},
   "source": [
    "## Define Model"
   ]
  },
  {
   "cell_type": "code",
   "execution_count": 2,
   "id": "fa98a0ea",
   "metadata": {},
   "outputs": [],
   "source": [
    "@dataclass\n",
    "class Uni:\n",
    "    \"\"\"Represent university.\"\"\"\n",
    "    name: str\n",
    "    rank: int"
   ]
  },
  {
   "cell_type": "markdown",
   "id": "2e695f7a",
   "metadata": {},
   "source": [
    "## Load Rankings"
   ]
  },
  {
   "cell_type": "code",
   "execution_count": 3,
   "id": "9c1aafd4",
   "metadata": {},
   "outputs": [],
   "source": [
    "def load_ranking(path: str, delimiter: str = None, limit: int = None) -> list[Uni]:\n",
    "    \"\"\"Load ranking.\"\"\"\n",
    "    with open(path) as file:\n",
    "        reader = csv.reader(file, delimiter=delimiter)\n",
    "        return [Uni(name, int(rank)) for name, rank in islice(reader, limit)]\n",
    "\n",
    "# Load top-50 unis\n",
    "ranking_qs = load_ranking(\"data/ranking-qs-cs-2021.tsv\", \"\\t\", 50)\n",
    "ranking_the = load_ranking(\"data/ranking-the-cs-2021.tsv\", \"\\t\", 50)\n",
    "ranking_arwu = load_ranking(\"data/ranking-arwu-cs-2020.tsv\", \"\\t\", 50)"
   ]
  },
  {
   "cell_type": "markdown",
   "id": "f83d2615",
   "metadata": {},
   "source": [
    "## Preview Rankings"
   ]
  },
  {
   "cell_type": "code",
   "execution_count": 4,
   "id": "5a841061",
   "metadata": {},
   "outputs": [],
   "source": [
    "def preview_ranking(ranking: list[Uni], limit: int = 10) -> None:\n",
    "    \"\"\"Preview ranking.\"\"\"\n",
    "    for i in range(limit):\n",
    "        uni = ranking[i]\n",
    "        print(f\"{uni.name}\\t{uni.rank}\")\n",
    "    print(\n",
    "        f\"-----------------------------\\n\"\n",
    "        f\"Length: {len(ranking)}\"\n",
    "    )"
   ]
  },
  {
   "cell_type": "code",
   "execution_count": 5,
   "id": "c12c8d35",
   "metadata": {},
   "outputs": [
    {
     "name": "stdout",
     "output_type": "stream",
     "text": [
      "Massachusetts Institute of Technology (MIT)\t1\n",
      "Stanford University\t2\n",
      "Carnegie Mellon University\t3\n",
      "National University of Singapore (NUS)\t4\n",
      "University of California, Berkeley (UCB)\t5\n",
      "University of Oxford\t6\n",
      "Harvard University\t7\n",
      "University of Cambridge\t8\n",
      "Ecole Polytechnique Federale de Lausanne (EPFL)\t9\n",
      "ETH Zurich - Swiss Federal Institute of Technology\t10\n",
      "-----------------------------\n",
      "Length: 50\n"
     ]
    }
   ],
   "source": [
    "preview_ranking(ranking_qs)"
   ]
  },
  {
   "cell_type": "code",
   "execution_count": 6,
   "id": "1ed902e3",
   "metadata": {},
   "outputs": [
    {
     "name": "stdout",
     "output_type": "stream",
     "text": [
      "University of Oxford\t1\n",
      "Stanford University\t2\n",
      "Massachusetts Institute of Technology (MIT)\t3\n",
      "ETH Zurich - Swiss Federal Institute of Technology\t4\n",
      "Carnegie Mellon University\t5\n",
      "University of Cambridge\t6\n",
      "Harvard University\t7\n",
      "National University of Singapore (NUS)\t8\n",
      "University of California, Berkeley (UCB)\t9\n",
      "Imperial College London\t10\n",
      "-----------------------------\n",
      "Length: 50\n"
     ]
    }
   ],
   "source": [
    "preview_ranking(ranking_the)"
   ]
  },
  {
   "cell_type": "code",
   "execution_count": 7,
   "id": "e96a5910",
   "metadata": {},
   "outputs": [
    {
     "name": "stdout",
     "output_type": "stream",
     "text": [
      "Massachusetts Institute of Technology (MIT)\t1\n",
      "Stanford University\t2\n",
      "University of California, Berkeley (UCB)\t3\n",
      "Carnegie Mellon University\t4\n",
      "ETH Zurich - Swiss Federal Institute of Technology\t5\n",
      "Harvard University\t6\n",
      "Tsinghua University\t7\n",
      "Nanyang Technological University, Singapore (NTU)\t8\n",
      "University of Toronto\t9\n",
      "University of Oxford\t10\n",
      "-----------------------------\n",
      "Length: 50\n"
     ]
    }
   ],
   "source": [
    "preview_ranking(ranking_arwu)"
   ]
  },
  {
   "cell_type": "markdown",
   "id": "a9b8fb63",
   "metadata": {},
   "source": [
    "## Clean Rankings"
   ]
  },
  {
   "cell_type": "markdown",
   "id": "f72fc5c4",
   "metadata": {},
   "source": [
    "Sometimes universities have different names in different rankings. For example, one ranking might use universities' full names while another might prefer acronyms. This might cause duplicates down the line.\n",
    "\n",
    "To avoid this issue, let's save all university names sorted alphabetically and try to spot duplicates. They typically appear next to each other, since they differ only slightly. Once we spot a duplicate, we pick the preferred name, update our TSV rankings, and repeat this process until no duplicates are left."
   ]
  },
  {
   "cell_type": "code",
   "execution_count": 8,
   "id": "61f256b7",
   "metadata": {},
   "outputs": [],
   "source": [
    "unis_qs = {uni.name for uni in ranking_qs}\n",
    "unis_the = {uni.name for uni in ranking_the}\n",
    "unis_arwu = {uni.name for uni in ranking_arwu}\n",
    "\n",
    "unis_all = unis_qs | unis_the | unis_arwu\n",
    "\n",
    "with open(\"data/universities_sorted.tsv\", \"w\") as file:\n",
    "    for uni in sorted(unis_all):\n",
    "        file.write(f\"{uni}\\n\")\n",
    "    file.write(f\"Length: {len(unis_all)}\")"
   ]
  },
  {
   "cell_type": "markdown",
   "id": "7c1d41ff",
   "metadata": {},
   "source": [
    "## Combine Rankings"
   ]
  },
  {
   "cell_type": "code",
   "execution_count": 9,
   "id": "151dd7e9",
   "metadata": {},
   "outputs": [],
   "source": [
    "rankings = [ranking_qs, ranking_the, ranking_arwu]\n",
    "\n",
    "uni_ranks = defaultdict(list)\n",
    "for ranking in rankings:\n",
    "    for uni in ranking:\n",
    "        uni_ranks[uni.name].append(uni.rank)\n",
    "\n",
    "uni_ranks = dict(uni_ranks)"
   ]
  },
  {
   "cell_type": "code",
   "execution_count": 10,
   "id": "94156d63",
   "metadata": {},
   "outputs": [],
   "source": [
    "# Fill missing ranks\n",
    "for _, ranks in uni_ranks.items():\n",
    "    while len(ranks) < 3:\n",
    "            ranks.append(51) # Best possible rank when not in top-50"
   ]
  },
  {
   "cell_type": "code",
   "execution_count": 11,
   "id": "0de48819",
   "metadata": {},
   "outputs": [],
   "source": [
    "# Average ranks\n",
    "ranking_all = [Uni(name, mean(ranks)) for name, ranks in uni_ranks.items()]"
   ]
  },
  {
   "cell_type": "markdown",
   "id": "d342588c",
   "metadata": {},
   "source": [
    "## Save Final Ranking"
   ]
  },
  {
   "cell_type": "code",
   "execution_count": 12,
   "id": "5e55de6e",
   "metadata": {},
   "outputs": [
    {
     "name": "stdout",
     "output_type": "stream",
     "text": [
      "1\tMassachusetts Institute of Technology (MIT)\t1.67\n",
      "2\tStanford University\t2.00\n",
      "3\tCarnegie Mellon University\t4.00\n",
      "4\tUniversity of California, Berkeley (UCB)\t5.67\n",
      "5\tUniversity of Oxford\t5.67\n",
      "6\tETH Zurich - Swiss Federal Institute of Technology\t6.33\n",
      "7\tHarvard University\t6.67\n",
      "8\tNational University of Singapore (NUS)\t10.00\n",
      "9\tTsinghua University\t10.67\n",
      "10\tPrinceton University\t12.33\n",
      "11\tNanyang Technological University, Singapore (NTU)\t12.67\n",
      "12\tUniversity of Toronto\t14.33\n",
      "13\tUniversity of California, Los Angeles (UCLA)\t14.67\n",
      "14\tCornell University\t15.67\n",
      "15\tUniversity of Cambridge\t17.33\n",
      "16\tImperial College London\t20.00\n",
      "17\tUniversity College London (UCL)\t21.33\n",
      "18\tEcole Polytechnique Federale de Lausanne (EPFL)\t23.00\n",
      "19\tUniversity of Washington\t23.00\n",
      "20\tPeking University\t24.00\n",
      "21\tUniversity of Texas at Austin\t24.67\n",
      "22\tColumbia University\t26.00\n",
      "23\tUniversity of Edinburgh\t26.33\n",
      "24\tGeorgia Institute of Technology\t26.67\n",
      "25\tShanghai Jiao Tong University\t27.67\n",
      "26\tNew York University (NYU)\t28.00\n",
      "27\tUniversity of Illinois at Urbana-Champaign\t31.67\n",
      "28\tChinese University of Hong Kong (CUHK)\t32.00\n",
      "29\tCalifornia Institute of Technology (Caltech)\t32.67\n",
      "30\tUniversity of Michigan-Ann Arbor\t32.67\n",
      "31\tTechnical University of Munich\t33.33\n",
      "32\tUniversity of Southern California\t34.67\n",
      "33\tZhejiang University\t35.67\n",
      "34\tHong Kong University of Science and Technology\t37.33\n",
      "35\tYale University\t38.33\n",
      "36\tUniversity of Technology Sydney\t38.33\n",
      "37\tUniversity of Pennsylvania\t38.67\n",
      "38\tUniversity of Waterloo\t39.67\n",
      "39\tUniversity of Tokyo\t39.67\n",
      "40\tUniversity of North Carolina at Chapel Hill\t39.67\n",
      "41\tHarbin Institute of Technology\t41.00\n",
      "42\tUniversity of British Columbia\t41.33\n",
      "43\tKorea Advanced Institute of Science and Technology (KAIST)\t41.67\n",
      "44\tUniversity of Science and Technology of China\t42.33\n",
      "45\tJohns Hopkins University\t43.00\n",
      "46\tUniversity of Montreal\t43.00\n",
      "47\tUniversity of Chicago\t43.33\n",
      "48\tHuazhong University of Science and Technology\t43.33\n",
      "49\tParis Sciences et Lettres (PSL)\t43.67\n",
      "50\tUniversity of Electronic Science and Technology of China\t44.00\n",
      "51\tUniversity of Hong Kong\t44.33\n",
      "52\tUniversity of Wisconsin–Madison\t44.67\n",
      "53\tCity University of Hong Kong\t44.67\n",
      "54\tXidian University\t45.67\n",
      "55\tSeoul National University\t46.33\n",
      "56\tUniversity of California, San Diego\t46.33\n",
      "57\tBeihang University\t46.33\n",
      "58\tUniversity of Melbourne\t47.00\n",
      "59\tUniversity of Amsterdam\t47.33\n",
      "60\tUniversity of Adelaide\t47.33\n"
     ]
    }
   ],
   "source": [
    "def save_ranking(ranking: list[Uni], limit: int = None) -> None:\n",
    "    \"\"\"Save ranking to file and preview it.\"\"\"\n",
    "    ranking_sorted = [uni for uni in sorted(ranking_all, key=lambda uni: uni.rank)]\n",
    "    with open(\"data/ranking_global_cs_2021.tsv\", \"w\") as file:\n",
    "        for i, uni in enumerate(ranking_sorted, start=1):\n",
    "            row = f\"{i}\\t{uni.name}\\t{uni.rank:.2f}\"\n",
    "            file.write(f\"{row}\\n\")\n",
    "            print(row)  # Preview\n",
    "            if i == limit:\n",
    "                break\n",
    "\n",
    "save_ranking(ranking_all, 60)"
   ]
  }
 ],
 "metadata": {
  "kernelspec": {
   "display_name": "Python 3",
   "language": "python",
   "name": "python3"
  },
  "language_info": {
   "codemirror_mode": {
    "name": "ipython",
    "version": 3
   },
   "file_extension": ".py",
   "mimetype": "text/x-python",
   "name": "python",
   "nbconvert_exporter": "python",
   "pygments_lexer": "ipython3",
   "version": "3.9.2"
  }
 },
 "nbformat": 4,
 "nbformat_minor": 5
}
