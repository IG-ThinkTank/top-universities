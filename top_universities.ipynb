{
 "cells": [
  {
   "cell_type": "markdown",
   "id": "71021cc2",
   "metadata": {},
   "source": [
    "# World Top CS Universities [2021]"
   ]
  },
  {
   "cell_type": "markdown",
   "id": "56994961",
   "metadata": {},
   "source": [
    "## Import Modules"
   ]
  },
  {
   "cell_type": "code",
   "execution_count": 41,
   "id": "65141b66",
   "metadata": {},
   "outputs": [],
   "source": [
    "import csv\n",
    "import os\n",
    "\n",
    "from collections import defaultdict\n",
    "from dataclasses import dataclass\n",
    "from itertools import islice\n",
    "from statistics import mean\n",
    "\n",
    "from normalize import alt2main, main2id\n",
    "from ranking_scraper.ranking_scraper.settings import ranking as r"
   ]
  },
  {
   "cell_type": "markdown",
   "id": "41acea18",
   "metadata": {},
   "source": [
    "## Define Model"
   ]
  },
  {
   "cell_type": "code",
   "execution_count": 42,
   "id": "fa98a0ea",
   "metadata": {},
   "outputs": [],
   "source": [
    "@dataclass\n",
    "class Uni:\n",
    "    \"\"\"Represent university.\"\"\"\n",
    "    name: str\n",
    "    rank: int"
   ]
  },
  {
   "cell_type": "markdown",
   "id": "2e695f7a",
   "metadata": {},
   "source": [
    "## Load Rankings"
   ]
  },
  {
   "cell_type": "code",
   "execution_count": 43,
   "id": "9c1aafd4",
   "metadata": {},
   "outputs": [],
   "source": [
    "def format(rank: str) -> int:\n",
    "    \"\"\"Format rank as an integer.\"\"\"\n",
    "    if rank.startswith(\"=\"):\n",
    "        return int(rank[1:])\n",
    "    if rank.endswith(\"+\"):\n",
    "        return int(rank[:-1])\n",
    "    if \"–\" in rank:\n",
    "        return mean([int(val) for val in rank.split(\"–\")])\n",
    "    if \"-\" in rank:\n",
    "        return mean([int(val) for val in rank.split(\"-\")])\n",
    "    return int(rank)\n",
    "\n",
    "def normalize(name: str) -> str:\n",
    "    \"\"\"Normalize university names.\"\"\"\n",
    "    if name.startswith(\"The \"):\n",
    "        name = name[4:]\n",
    "    if name in alt2main:\n",
    "        return alt2main[name]\n",
    "    return name\n",
    "\n",
    "def load_ranking(path: str, delimiter: str = None, limit: int = None) -> list[Uni]:\n",
    "    \"\"\"Load ranking.\"\"\"\n",
    "    with open(path) as file:\n",
    "        reader = csv.reader(file, delimiter=delimiter)\n",
    "        next(reader)  # Skip header row\n",
    "        return [Uni(normalize(name), format(rank)) for name, rank in islice(reader, limit)]\n",
    "\n",
    "# Load universities\n",
    "base = \"ranking_scraper/ranking_scraper\"\n",
    "ranking_the = load_ranking(f\"{base}/data/input/{r['subject']}_{r['year']}/the.csv\", \",\", 100)\n",
    "ranking_qs = load_ranking(f\"{base}/data/input/{r['subject']}_{r['year']}/qs.csv\", \",\", 100)\n",
    "ranking_arwu = load_ranking(f\"{base}/data/input/{r['subject']}_{r['year']}/arwu.csv\", \",\", 100)"
   ]
  },
  {
   "cell_type": "markdown",
   "id": "f83d2615",
   "metadata": {},
   "source": [
    "## Preview Rankings"
   ]
  },
  {
   "cell_type": "code",
   "execution_count": 44,
   "id": "5a841061",
   "metadata": {},
   "outputs": [],
   "source": [
    "def preview_ranking(ranking: list[Uni], limit: int = 10) -> None:\n",
    "    \"\"\"Preview ranking.\"\"\"\n",
    "    # Print first universities in ranking\n",
    "    for i in range(limit):\n",
    "        uni = ranking[i]\n",
    "        print(f\"{uni.name}\\t{uni.rank}\")\n",
    "    print(\"...\")\n",
    "    # Print last universities in ranking\n",
    "    for i in range(len(ranking) - limit, len(ranking)):\n",
    "        uni = ranking[i]\n",
    "        print(f\"{uni.name}\\t{uni.rank}\")\n",
    "    print(\n",
    "        f\"-----------------------------\\n\"\n",
    "        f\"Length: {len(ranking)}\"\n",
    "    )"
   ]
  },
  {
   "cell_type": "code",
   "execution_count": 45,
   "id": "c12c8d35",
   "metadata": {},
   "outputs": [
    {
     "name": "stdout",
     "output_type": "stream",
     "text": [
      "Massachusetts Institute of Technology (MIT)\t1\n",
      "Stanford University\t1\n",
      "University of Cambridge\t3\n",
      "University of Oxford\t4\n",
      "Harvard University\t5\n",
      "University of California, Berkeley\t6\n",
      "University of Chicago\t7\n",
      "Yale University\t8\n",
      "London School of Economics and Political Science (LSE)\t9\n",
      "Duke University\t10\n",
      "...\n",
      "University of Twente\t92\n",
      "Vrije Universiteit Amsterdam\t92\n",
      "City University of Hong Kong\t94\n",
      "Sant’Anna School of Advanced Studies – Pisa\t95\n",
      "University of Illinois at Urbana-Champaign\t96\n",
      "Georgia Institute of Technology (Georgia Tech)\t97\n",
      "University of Maryland, College Park\t98\n",
      "University of Nottingham\t99\n",
      "University of Glasgow\t100\n",
      "University of Alberta\t113\n",
      "-----------------------------\n",
      "Length: 100\n"
     ]
    }
   ],
   "source": [
    "preview_ranking(ranking_the)"
   ]
  },
  {
   "cell_type": "code",
   "execution_count": 46,
   "id": "1ed902e3",
   "metadata": {},
   "outputs": [
    {
     "name": "stdout",
     "output_type": "stream",
     "text": [
      "Harvard University\t1\n",
      "INSEAD\t2\n",
      "London Business School\t3\n",
      "Massachusetts Institute of Technology (MIT)\t4\n",
      "Stanford University\t5\n",
      "University of Pennsylvania\t6\n",
      "Bocconi University\t7\n",
      "University of Cambridge\t8\n",
      "HEC Paris School of Management\t9\n",
      "University of Oxford\t10\n",
      "...\n",
      "University of Southern California\t90\n",
      "National Taiwan University (NTU)\t92\n",
      "Paris Sciences et Lettres (PSL University)\t92\n",
      "University of Auckland\t94\n",
      "University College London (UCL)\t94\n",
      "University of Strathclyde\t96\n",
      "Zhejiang University\t96\n",
      "Universidad de Chile\t98\n",
      "Aston University\t99\n",
      "Technical University of Munich\t99\n",
      "-----------------------------\n",
      "Length: 100\n"
     ]
    }
   ],
   "source": [
    "preview_ranking(ranking_qs)"
   ]
  },
  {
   "cell_type": "code",
   "execution_count": 47,
   "id": "e96a5910",
   "metadata": {},
   "outputs": [
    {
     "name": "stdout",
     "output_type": "stream",
     "text": [
      "Erasmus University Rotterdam\t1\n",
      "Texas A&M University\t2\n",
      "University of Pennsylvania\t3\n",
      "Harvard University\t4\n",
      "University of Michigan-Ann Arbor\t5\n",
      "Duke University\t6\n",
      "Georgia State University\t7\n",
      "Indiana University\t8\n",
      "INSEAD\t9\n",
      "University of North Carolina at Chapel Hill\t10\n",
      "...\n",
      "University of Texas at San Antonio\t88\n",
      "Universitat Ramon Llull\t88\n",
      "University of California, Berkeley\t88\n",
      "University of California, Los Angeles (UCLA)\t88\n",
      "University of Houston\t88\n",
      "University of Kentucky\t88\n",
      "University of Tennessee - Knoxville\t88\n",
      "University of Virginia\t88\n",
      "Vrije Universiteit Amsterdam\t88\n",
      "Washington University in St. Louis\t88\n",
      "-----------------------------\n",
      "Length: 100\n"
     ]
    }
   ],
   "source": [
    "preview_ranking(ranking_arwu)"
   ]
  },
  {
   "cell_type": "markdown",
   "id": "a9b8fb63",
   "metadata": {},
   "source": [
    "## Clean Rankings"
   ]
  },
  {
   "cell_type": "markdown",
   "id": "f72fc5c4",
   "metadata": {},
   "source": [
    "Sometimes universities have different names in different rankings. For example, one ranking might use universities' full names while another might prefer acronyms. This might cause duplicates down the line.\n",
    "\n",
    "To avoid this issue, let's save all university names sorted alphabetically and try to spot duplicates. They typically appear next to each other, since they differ only slightly. Once we spot a duplicate, we pick the preferred name and add it to `normalize.py` as well as its alt-names, and we repeat this process until no duplicates are left."
   ]
  },
  {
   "cell_type": "code",
   "execution_count": 48,
   "id": "61f256b7",
   "metadata": {},
   "outputs": [],
   "source": [
    "unis_qs = {uni.name for uni in ranking_qs}\n",
    "unis_the = {uni.name for uni in ranking_the}\n",
    "unis_arwu = {uni.name for uni in ranking_arwu}\n",
    "\n",
    "unis_all = unis_qs | unis_the | unis_arwu\n",
    "\n",
    "with open(f\"{base}/data/output/universities_sorted.tsv\", \"w\") as file:\n",
    "    for uni in sorted(unis_all):\n",
    "        file.write(f\"{uni}\\n\")\n",
    "    file.write(f\"Length: {len(unis_all)}\")"
   ]
  },
  {
   "cell_type": "markdown",
   "id": "7c1d41ff",
   "metadata": {},
   "source": [
    "## Combine Rankings"
   ]
  },
  {
   "cell_type": "code",
   "execution_count": 49,
   "id": "151dd7e9",
   "metadata": {},
   "outputs": [],
   "source": [
    "rankings = [ranking_qs, ranking_the, ranking_arwu]\n",
    "\n",
    "uni_ranks = defaultdict(list)\n",
    "for ranking in rankings:\n",
    "    for uni in ranking:\n",
    "        uni_ranks[uni.name].append(uni.rank)\n",
    "\n",
    "uni_ranks = dict(uni_ranks)"
   ]
  },
  {
   "cell_type": "code",
   "execution_count": 50,
   "id": "94156d63",
   "metadata": {},
   "outputs": [],
   "source": [
    "# Fill missing ranks\n",
    "for _, ranks in uni_ranks.items():\n",
    "    while len(ranks) < 3:\n",
    "            ranks.append(101) # Best possible rank when not in top-100"
   ]
  },
  {
   "cell_type": "code",
   "execution_count": 51,
   "id": "0de48819",
   "metadata": {},
   "outputs": [],
   "source": [
    "# Average ranks\n",
    "ranking_all = [Uni(name, mean(ranks)) for name, ranks in uni_ranks.items()]"
   ]
  },
  {
   "cell_type": "markdown",
   "id": "d342588c",
   "metadata": {},
   "source": [
    "## Save Final Ranking"
   ]
  },
  {
   "cell_type": "code",
   "execution_count": 52,
   "id": "5e55de6e",
   "metadata": {},
   "outputs": [
    {
     "name": "stdout",
     "output_type": "stream",
     "text": [
      "1\tHarvard University\t3.33\n",
      "2\tUniversity of Pennsylvania\t7.00\n",
      "3\tStanford University\t13.67\n",
      "4\tErasmus University Rotterdam\t14.33\n",
      "5\tColumbia University\t14.67\n",
      "6\tUniversity of Michigan-Ann Arbor\t16.67\n",
      "7\tNorthwestern University\t18.00\n",
      "8\tDuke University\t21.67\n",
      "9\tNew York University (NYU)\t22.00\n",
      "10\tUniversity of Cambridge\t24.67\n",
      "11\tUniversity of Oxford\t25.67\n",
      "12\tNational University of Singapore (NUS)\t30.00\n",
      "13\tUniversity of Chicago\t31.00\n",
      "14\tHong Kong University of Science and Technology\t33.67\n",
      "15\tMassachusetts Institute of Technology (MIT)\t35.33\n",
      "16\tUniversity of Toronto\t35.33\n",
      "17\tUniversity of California, Berkeley\t35.67\n",
      "18\tCornell University\t36.33\n",
      "19\tUniversity of British Columbia\t36.67\n",
      "20\tUniversity of Warwick\t37.00\n",
      "21\tINSEAD\t37.33\n",
      "22\tTilburg University\t39.00\n",
      "23\tLondon School of Economics and Political Science (LSE)\t40.33\n",
      "24\tHong Kong Polytechnic University\t42.00\n",
      "25\tYale University\t42.33\n",
      "26\tUniversity of Texas at Austin\t42.33\n",
      "27\tCopenhagen Business School\t44.00\n",
      "28\tNanyang Technological University (NTU)\t44.00\n",
      "29\tUniversity of Melbourne\t44.00\n",
      "30\tMichigan State University\t44.67\n",
      "31\tBocconi University\t45.33\n",
      "32\tUniversity of California, Los Angeles (UCLA)\t45.33\n",
      "33\tUniversity of St. Gallen\t45.67\n",
      "34\tUniversity of Hong Kong\t47.00\n",
      "35\tTsinghua University\t47.67\n",
      "36\tPeking University\t48.33\n",
      "37\tUniversity of Manchester\t50.33\n",
      "38\tUniversity of Southern California\t51.00\n",
      "39\tAalto University\t52.00\n",
      "40\tUniversity of Minnesota\t52.33\n",
      "41\tArizona State University\t52.67\n",
      "42\tMonash University\t53.67\n",
      "43\tUniversity of Washington\t53.67\n",
      "44\tLondon Business School\t55.67\n",
      "45\tUniversity of Leeds\t55.67\n",
      "46\tPennsylvania State University\t56.00\n",
      "47\tChinese University of Hong Kong (CUHK)\t57.67\n",
      "48\tIndiana University\t59.33\n",
      "49\tUniversity of North Carolina at Chapel Hill\t60.00\n",
      "50\tBoston University\t60.33\n",
      "51\tTexas A&M University\t62.00\n",
      "52\tCity, University of London\t63.67\n",
      "53\tShanghai Jiao Tong University\t64.00\n",
      "54\tUniversity of New South Wales (UNSW Sydney)\t65.33\n",
      "55\tUniversity of Mannheim\t65.67\n",
      "56\tUniversity of Wisconsin–Madison\t65.67\n",
      "57\tUniversity of Tokyo\t66.33\n",
      "58\tUniversity of Queensland\t67.00\n",
      "59\tSingapore Management University\t67.33\n",
      "60\tSeoul National University\t69.00\n"
     ]
    }
   ],
   "source": [
    "def save_ranking(ranking: list[Uni], limit: int = None) -> None:\n",
    "    \"\"\"Save ranking to file and preview it.\"\"\"\n",
    "    ranking_sorted = [uni for uni in sorted(ranking_all, key=lambda uni: uni.rank)]\n",
    "    filepath = f\"{base}/data/output/{r['subject']}_{r['year']}_combined.tsv\"\n",
    "    os.makedirs(os.path.dirname(filepath), exist_ok=True)\n",
    "    with open(filepath, \"w\") as file:\n",
    "        for i, uni in enumerate(ranking_sorted, start=1):\n",
    "            row = f\"{i}\\t{uni.name}\\t{uni.rank:.2f}\"\n",
    "            file.write(f\"{row}\\n\")\n",
    "            print(row)  # Preview\n",
    "            if i == limit:\n",
    "                break\n",
    "\n",
    "save_ranking(ranking_all, 60)"
   ]
  },
  {
   "cell_type": "markdown",
   "id": "45573aca",
   "metadata": {},
   "source": [
    "## Get IDs (Helper)"
   ]
  },
  {
   "cell_type": "code",
   "execution_count": 54,
   "id": "087066ad",
   "metadata": {},
   "outputs": [
    {
     "name": "stdout",
     "output_type": "stream",
     "text": [
      "Unis without id: ['Tilburg University', 'London School of Economics and Political Science (LSE)', 'University of St. Gallen', 'University of Southern California', 'City, University of London', 'Singapore Management University']\n",
      "50\n",
      "$top_unis_business_2022 =  [38, 5, 1, 849, 33, 2, 62, 7, 483, 978, 1092, 72, 119, 31, 39, 8, 3, 225, 4, 187, 1468, 663, 99, 86, 237, 170, 24, 109, 229, 692, 405, 168, 159, 227, 2108, 50, 164, 350, 15, 717, 179, 55, 48, 100, 70, 348, 1555, 238, 233, 2239]\n"
     ]
    }
   ],
   "source": [
    "def get_ids(ranking: list[Uni], limit: int = None) -> list[int]:\n",
    "    ranking_sorted = [uni for uni in sorted(ranking_all, key=lambda uni: uni.rank)]\n",
    "    ranking_sorted_ids = []\n",
    "    unis_without_id = []\n",
    "    for uni in ranking_sorted[:limit]:\n",
    "        if uni.name in main2id:\n",
    "            ranking_sorted_ids.append(main2id[uni.name])\n",
    "        else:\n",
    "            unis_without_id.append(uni.name)\n",
    "    # print(\"Ranked unis ids:\", ranking_sorted_ids)\n",
    "    print(\"Unis without id:\", unis_without_id)\n",
    "    return ranking_sorted_ids\n",
    "\n",
    "top_unis_ids = get_ids(ranking_all, 60)[:50]\n",
    "print(len(top_unis_ids))\n",
    "print(f\"$top_unis_{r['subject']}_{r['year']} = \", top_unis_ids)"
   ]
  }
 ],
 "metadata": {
  "kernelspec": {
   "display_name": "Python 3",
   "language": "python",
   "name": "python3"
  },
  "language_info": {
   "codemirror_mode": {
    "name": "ipython",
    "version": 3
   },
   "file_extension": ".py",
   "mimetype": "text/x-python",
   "name": "python",
   "nbconvert_exporter": "python",
   "pygments_lexer": "ipython3",
   "version": "3.9.7"
  }
 },
 "nbformat": 4,
 "nbformat_minor": 5
}
