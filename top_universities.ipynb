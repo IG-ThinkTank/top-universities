{
 "cells": [
  {
   "cell_type": "markdown",
   "id": "71021cc2",
   "metadata": {},
   "source": [
    "# World Top CS Universities [2021]"
   ]
  },
  {
   "cell_type": "markdown",
   "id": "56994961",
   "metadata": {},
   "source": [
    "## Import Modules"
   ]
  },
  {
   "cell_type": "code",
   "execution_count": 62,
   "id": "65141b66",
   "metadata": {},
   "outputs": [],
   "source": [
    "import csv\n",
    "from collections import defaultdict\n",
    "from dataclasses import dataclass\n",
    "from itertools import islice\n",
    "from statistics import mean"
   ]
  },
  {
   "cell_type": "markdown",
   "id": "41acea18",
   "metadata": {},
   "source": [
    "## Define Model"
   ]
  },
  {
   "cell_type": "code",
   "execution_count": 63,
   "id": "fa98a0ea",
   "metadata": {},
   "outputs": [],
   "source": [
    "@dataclass\n",
    "class Uni:\n",
    "    \"\"\"Represent university.\"\"\"\n",
    "    name: str\n",
    "    rank: int"
   ]
  },
  {
   "cell_type": "markdown",
   "id": "2e695f7a",
   "metadata": {},
   "source": [
    "## Load Rankings"
   ]
  },
  {
   "cell_type": "code",
   "execution_count": 64,
   "id": "9c1aafd4",
   "metadata": {},
   "outputs": [],
   "source": [
    "def format(rank: str) -> int:\n",
    "    \"\"\"Format rank as an integer.\"\"\"\n",
    "    if rank.startswith(\"=\"):\n",
    "        return int(rank[1:])\n",
    "    if rank.endswith(\"+\"):\n",
    "        return int(rank[:-1])\n",
    "    if \"–\" in rank:\n",
    "        return mean([int(val) for val in rank.split(\"–\")])\n",
    "    if \"-\" in rank:\n",
    "        return mean([int(val) for val in rank.split(\"-\")])\n",
    "    return int(rank)\n",
    "\n",
    "def load_ranking(path: str, delimiter: str = None, limit: int = None) -> list[Uni]:\n",
    "    \"\"\"Load ranking.\"\"\"\n",
    "    with open(path) as file:\n",
    "        reader = csv.reader(file, delimiter=delimiter)\n",
    "        next(reader)  # Skip header row\n",
    "        return [Uni(name, format(rank)) for name, rank in islice(reader, limit)]\n",
    "\n",
    "# Load universities\n",
    "ranking_the = load_ranking(\"ranking_scraper/the_cs_2022.csv\", \",\")\n",
    "ranking_qs = load_ranking(\"ranking_scraper/qs_cs_2021.csv\", \",\")\n",
    "ranking_arwu = load_ranking(\"ranking_scraper/arwu_cs_2021.csv\", \",\")"
   ]
  },
  {
   "cell_type": "markdown",
   "id": "f83d2615",
   "metadata": {},
   "source": [
    "## Preview Rankings"
   ]
  },
  {
   "cell_type": "code",
   "execution_count": 65,
   "id": "5a841061",
   "metadata": {},
   "outputs": [],
   "source": [
    "def preview_ranking(ranking: list[Uni], limit: int = 10) -> None:\n",
    "    \"\"\"Preview ranking.\"\"\"\n",
    "    # Print first universities in ranking\n",
    "    for i in range(limit):\n",
    "        uni = ranking[i]\n",
    "        print(f\"{uni.name}\\t{uni.rank}\")\n",
    "    print(\"...\")\n",
    "    # Print last universities in ranking\n",
    "    for i in range(len(ranking) - limit, len(ranking)):\n",
    "        uni = ranking[i]\n",
    "        print(f\"{uni.name}\\t{uni.rank}\")\n",
    "    print(\n",
    "        f\"-----------------------------\\n\"\n",
    "        f\"Length: {len(ranking)}\"\n",
    "    )"
   ]
  },
  {
   "cell_type": "code",
   "execution_count": 66,
   "id": "c12c8d35",
   "metadata": {},
   "outputs": [
    {
     "name": "stdout",
     "output_type": "stream",
     "text": [
      "University of Oxford\t1\n",
      "Stanford University\t2\n",
      "Massachusetts Institute of Technology\t3\n",
      "University of Cambridge\t4\n",
      "ETH Zurich\t4\n",
      "Carnegie Mellon University\t6\n",
      "Harvard University\t7\n",
      "University of California, Berkeley\t8\n",
      "National University of Singapore\t8\n",
      "Princeton University\t10\n",
      "...\n",
      "Tokyo University of Agriculture and Technology\t801\n",
      "Tokyo Denki University\t801\n",
      "Tokyo University of Science\t801\n",
      "Toyohashi University of Technology (TUT)\t801\n",
      "Tshwane University of Technology\t801\n",
      "Vilnius University\t801\n",
      "Wuhan University of Technology\t801\n",
      "Yamaguchi University\t801\n",
      "Yanshan University\t801\n",
      "Yuan Ze University\t801\n",
      "-----------------------------\n",
      "Length: 892\n"
     ]
    }
   ],
   "source": [
    "preview_ranking(ranking_the)"
   ]
  },
  {
   "cell_type": "code",
   "execution_count": 67,
   "id": "1ed902e3",
   "metadata": {},
   "outputs": [
    {
     "name": "stdout",
     "output_type": "stream",
     "text": [
      "Massachusetts Institute of Technology (MIT)\t1\n",
      "Stanford University\t2\n",
      "Carnegie Mellon University\t3\n",
      "National University of Singapore (NUS)\t4\n",
      "University of California, Berkeley (UCB)\t5\n",
      "University of Oxford\t6\n",
      "Harvard University\t7\n",
      "University of Cambridge\t8\n",
      "EPFL\t9\n",
      "ETH Zurich - Swiss Federal Institute of Technology\t10\n",
      "...\n",
      "University of Jyväskylä\t625.5\n",
      "Université de Liège\t625.5\n",
      "University of Maryland, Baltimore County\t625.5\n",
      "University of Massachusetts Boston\t625.5\n",
      "University of Minho\t625.5\n",
      "University of New Mexico\t625.5\n",
      "University of Reading\t625.5\n",
      "University of Saskatchewan\t625.5\n",
      "University of Zagreb\t625.5\n",
      "Vietnam National University, Hanoi\t625.5\n",
      "-----------------------------\n",
      "Length: 651\n"
     ]
    }
   ],
   "source": [
    "preview_ranking(ranking_qs)"
   ]
  },
  {
   "cell_type": "code",
   "execution_count": 68,
   "id": "e96a5910",
   "metadata": {},
   "outputs": [
    {
     "name": "stdout",
     "output_type": "stream",
     "text": [
      "Massachusetts Institute of Technology (MIT)\t1\n",
      "Stanford University\t2\n",
      "University of California, Berkeley\t3\n",
      "Carnegie Mellon University\t4\n",
      "ETH Zurich\t5\n",
      "Tsinghua University\t6\n",
      "Harvard University\t7\n",
      "Nanyang Technological University\t8\n",
      "University of Oxford\t9\n",
      "University of California, Los Angeles\t10\n",
      "...\n",
      "University of Tennessee - Knoxville\t450.5\n",
      "University of the Basque Country\t450.5\n",
      "University of Tuebingen\t450.5\n",
      "University of Windsor\t450.5\n",
      "University of Wuerzburg\t450.5\n",
      "Vrije Universiteit Brussel (VUB)\t450.5\n",
      "Wayne State University\t450.5\n",
      "Zhejiang Gongshang University\t450.5\n",
      "Zhejiang Normal University\t450.5\n",
      "Zhengzhou University\t450.5\n",
      "-----------------------------\n",
      "Length: 497\n"
     ]
    }
   ],
   "source": [
    "preview_ranking(ranking_arwu)"
   ]
  },
  {
   "cell_type": "markdown",
   "id": "a9b8fb63",
   "metadata": {},
   "source": [
    "## Clean Rankings"
   ]
  },
  {
   "cell_type": "markdown",
   "id": "f72fc5c4",
   "metadata": {},
   "source": [
    "Sometimes universities have different names in different rankings. For example, one ranking might use universities' full names while another might prefer acronyms. This might cause duplicates down the line.\n",
    "\n",
    "To avoid this issue, let's save all university names sorted alphabetically and try to spot duplicates. They typically appear next to each other, since they differ only slightly. Once we spot a duplicate, we pick the preferred name, update our TSV rankings, and repeat this process until no duplicates are left."
   ]
  },
  {
   "cell_type": "code",
   "execution_count": null,
   "id": "61f256b7",
   "metadata": {},
   "outputs": [],
   "source": [
    "unis_qs = {uni.name for uni in ranking_qs}\n",
    "unis_the = {uni.name for uni in ranking_the}\n",
    "unis_arwu = {uni.name for uni in ranking_arwu}\n",
    "\n",
    "unis_all = unis_qs | unis_the | unis_arwu\n",
    "\n",
    "with open(\"data/cs-2021/universities_sorted.tsv\", \"w\") as file:\n",
    "    for uni in sorted(unis_all):\n",
    "        file.write(f\"{uni}\\n\")\n",
    "    file.write(f\"Length: {len(unis_all)}\")"
   ]
  },
  {
   "cell_type": "markdown",
   "id": "7c1d41ff",
   "metadata": {},
   "source": [
    "## Combine Rankings"
   ]
  },
  {
   "cell_type": "code",
   "execution_count": null,
   "id": "151dd7e9",
   "metadata": {},
   "outputs": [],
   "source": [
    "rankings = [ranking_qs, ranking_the, ranking_arwu]\n",
    "\n",
    "uni_ranks = defaultdict(list)\n",
    "for ranking in rankings:\n",
    "    for uni in ranking:\n",
    "        uni_ranks[uni.name].append(uni.rank)\n",
    "\n",
    "uni_ranks = dict(uni_ranks)"
   ]
  },
  {
   "cell_type": "code",
   "execution_count": null,
   "id": "94156d63",
   "metadata": {},
   "outputs": [],
   "source": [
    "# Fill missing ranks\n",
    "for _, ranks in uni_ranks.items():\n",
    "    while len(ranks) < 3:\n",
    "            ranks.append(51) # Best possible rank when not in top-50"
   ]
  },
  {
   "cell_type": "code",
   "execution_count": null,
   "id": "0de48819",
   "metadata": {},
   "outputs": [],
   "source": [
    "# Average ranks\n",
    "ranking_all = [Uni(name, mean(ranks)) for name, ranks in uni_ranks.items()]"
   ]
  },
  {
   "cell_type": "markdown",
   "id": "d342588c",
   "metadata": {},
   "source": [
    "## Save Final Ranking"
   ]
  },
  {
   "cell_type": "code",
   "execution_count": null,
   "id": "5e55de6e",
   "metadata": {},
   "outputs": [],
   "source": [
    "def save_ranking(ranking: list[Uni], limit: int = None) -> None:\n",
    "    \"\"\"Save ranking to file and preview it.\"\"\"\n",
    "    ranking_sorted = [uni for uni in sorted(ranking_all, key=lambda uni: uni.rank)]\n",
    "    with open(\"data/cs-2021/ranking_global_cs_2021.tsv\", \"w\") as file:\n",
    "        for i, uni in enumerate(ranking_sorted, start=1):\n",
    "            row = f\"{i}\\t{uni.name}\\t{uni.rank:.2f}\"\n",
    "            file.write(f\"{row}\\n\")\n",
    "            print(row)  # Preview\n",
    "            if i == limit:\n",
    "                break\n",
    "\n",
    "save_ranking(ranking_all, 60)"
   ]
  }
 ],
 "metadata": {
  "kernelspec": {
   "display_name": "Python 3",
   "language": "python",
   "name": "python3"
  },
  "language_info": {
   "codemirror_mode": {
    "name": "ipython",
    "version": 3
   },
   "file_extension": ".py",
   "mimetype": "text/x-python",
   "name": "python",
   "nbconvert_exporter": "python",
   "pygments_lexer": "ipython3",
   "version": "3.9.7"
  }
 },
 "nbformat": 4,
 "nbformat_minor": 5
}
