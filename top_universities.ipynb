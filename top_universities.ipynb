{
 "cells": [
  {
   "cell_type": "markdown",
   "id": "71021cc2",
   "metadata": {},
   "source": [
    "# World Top CS Universities [2021]"
   ]
  },
  {
   "cell_type": "markdown",
   "id": "56994961",
   "metadata": {},
   "source": [
    "## Import Modules"
   ]
  },
  {
   "cell_type": "code",
   "execution_count": 14,
   "id": "65141b66",
   "metadata": {},
   "outputs": [],
   "source": [
    "import csv\n",
    "from collections import defaultdict\n",
    "from dataclasses import dataclass\n",
    "from itertools import islice\n",
    "from statistics import mean\n",
    "\n",
    "from normalize import alt2main, main2id"
   ]
  },
  {
   "cell_type": "markdown",
   "id": "41acea18",
   "metadata": {},
   "source": [
    "## Define Model"
   ]
  },
  {
   "cell_type": "code",
   "execution_count": 15,
   "id": "fa98a0ea",
   "metadata": {},
   "outputs": [],
   "source": [
    "@dataclass\n",
    "class Uni:\n",
    "    \"\"\"Represent university.\"\"\"\n",
    "    name: str\n",
    "    rank: int"
   ]
  },
  {
   "cell_type": "markdown",
   "id": "2e695f7a",
   "metadata": {},
   "source": [
    "## Load Rankings"
   ]
  },
  {
   "cell_type": "code",
   "execution_count": 16,
   "id": "9c1aafd4",
   "metadata": {},
   "outputs": [],
   "source": [
    "def format(rank: str) -> int:\n",
    "    \"\"\"Format rank as an integer.\"\"\"\n",
    "    if rank.startswith(\"=\"):\n",
    "        return int(rank[1:])\n",
    "    if rank.endswith(\"+\"):\n",
    "        return int(rank[:-1])\n",
    "    if \"–\" in rank:\n",
    "        return mean([int(val) for val in rank.split(\"–\")])\n",
    "    if \"-\" in rank:\n",
    "        return mean([int(val) for val in rank.split(\"-\")])\n",
    "    return int(rank)\n",
    "\n",
    "def normalize(name: str) -> str:\n",
    "    \"\"\"Normalize university names.\"\"\"\n",
    "    if name.startswith(\"The \"):\n",
    "        name = name[4:]\n",
    "    if name in alt2main:\n",
    "        return alt2main[name]\n",
    "    return name\n",
    "\n",
    "def load_ranking(path: str, delimiter: str = None, limit: int = None) -> list[Uni]:\n",
    "    \"\"\"Load ranking.\"\"\"\n",
    "    with open(path) as file:\n",
    "        reader = csv.reader(file, delimiter=delimiter)\n",
    "        next(reader)  # Skip header row\n",
    "        return [Uni(normalize(name), format(rank)) for name, rank in islice(reader, limit)]\n",
    "\n",
    "# Load universities\n",
    "ranking_the = load_ranking(\"ranking_scraper/the_cs_2022.csv\", \",\", 100)\n",
    "ranking_qs = load_ranking(\"ranking_scraper/qs_cs_2021.csv\", \",\", 100)\n",
    "ranking_arwu = load_ranking(\"ranking_scraper/arwu_cs_2021.csv\", \",\", 100)"
   ]
  },
  {
   "cell_type": "markdown",
   "id": "f83d2615",
   "metadata": {},
   "source": [
    "## Preview Rankings"
   ]
  },
  {
   "cell_type": "code",
   "execution_count": 17,
   "id": "5a841061",
   "metadata": {},
   "outputs": [],
   "source": [
    "def preview_ranking(ranking: list[Uni], limit: int = 10) -> None:\n",
    "    \"\"\"Preview ranking.\"\"\"\n",
    "    # Print first universities in ranking\n",
    "    for i in range(limit):\n",
    "        uni = ranking[i]\n",
    "        print(f\"{uni.name}\\t{uni.rank}\")\n",
    "    print(\"...\")\n",
    "    # Print last universities in ranking\n",
    "    for i in range(len(ranking) - limit, len(ranking)):\n",
    "        uni = ranking[i]\n",
    "        print(f\"{uni.name}\\t{uni.rank}\")\n",
    "    print(\n",
    "        f\"-----------------------------\\n\"\n",
    "        f\"Length: {len(ranking)}\"\n",
    "    )"
   ]
  },
  {
   "cell_type": "code",
   "execution_count": 18,
   "id": "c12c8d35",
   "metadata": {},
   "outputs": [
    {
     "name": "stdout",
     "output_type": "stream",
     "text": [
      "University of Oxford\t1\n",
      "Stanford University\t2\n",
      "Massachusetts Institute of Technology (MIT)\t3\n",
      "University of Cambridge\t4\n",
      "ETH Zurich\t4\n",
      "Carnegie Mellon University\t6\n",
      "Harvard University\t7\n",
      "University of California, Berkeley\t8\n",
      "National University of Singapore (NUS)\t8\n",
      "Princeton University\t10\n",
      "...\n",
      "Tokyo Institute of Technology (Tokyo Tech)\t88\n",
      "University of Southampton\t91\n",
      "University of Birmingham\t92\n",
      "University of Luxembourg\t93\n",
      "Monash University\t93\n",
      "University of Zurich\t93\n",
      "Vrije Universiteit Amsterdam\t96\n",
      "Technion Israel Institute of Technology\t97\n",
      "TU Wien\t97\n",
      "Queen Mary University of London\t99\n",
      "-----------------------------\n",
      "Length: 100\n"
     ]
    }
   ],
   "source": [
    "preview_ranking(ranking_the)"
   ]
  },
  {
   "cell_type": "code",
   "execution_count": 19,
   "id": "1ed902e3",
   "metadata": {},
   "outputs": [
    {
     "name": "stdout",
     "output_type": "stream",
     "text": [
      "Massachusetts Institute of Technology (MIT)\t1\n",
      "Stanford University\t2\n",
      "Carnegie Mellon University\t3\n",
      "National University of Singapore (NUS)\t4\n",
      "University of California, Berkeley\t5\n",
      "University of Oxford\t6\n",
      "Harvard University\t7\n",
      "University of Cambridge\t8\n",
      "Swiss Federal Institute of Technology Lausanne (EPFL)\t9\n",
      "ETH Zurich\t10\n",
      "...\n",
      "University of Wisconsin–Madison\t89\n",
      "Boston University\t92\n",
      "Karlsruhe Institute of Technology (KIT)\t92\n",
      "Universidad Nacional Autónoma de México (UNAM)\t94\n",
      "University of Massachusetts (UMass)\t95\n",
      "Aalto University\t96\n",
      "University of Warwick\t96\n",
      "Université catholique de Louvain (UCL)\t96\n",
      "Aarhus University\t99\n",
      "University of Adelaide\t99\n",
      "-----------------------------\n",
      "Length: 100\n"
     ]
    }
   ],
   "source": [
    "preview_ranking(ranking_qs)"
   ]
  },
  {
   "cell_type": "code",
   "execution_count": 20,
   "id": "e96a5910",
   "metadata": {},
   "outputs": [
    {
     "name": "stdout",
     "output_type": "stream",
     "text": [
      "Massachusetts Institute of Technology (MIT)\t1\n",
      "Stanford University\t2\n",
      "University of California, Berkeley\t3\n",
      "Carnegie Mellon University\t4\n",
      "ETH Zurich\t5\n",
      "Tsinghua University\t6\n",
      "Harvard University\t7\n",
      "Nanyang Technological University (NTU)\t8\n",
      "University of Oxford\t9\n",
      "University of California, Los Angeles (UCLA)\t10\n",
      "...\n",
      "Sichuan University\t88\n",
      "Swinburne University of Technology\t88\n",
      "Technical University of Denmark\t88\n",
      "University of Hong Kong\t88\n",
      "University of Melbourne\t88\n",
      "Tongji University\t88\n",
      "Université Grenoble Alpes\t88\n",
      "University of California, Merced\t88\n",
      "University of Macau\t88\n",
      "University of Pennsylvania\t88\n",
      "-----------------------------\n",
      "Length: 100\n"
     ]
    }
   ],
   "source": [
    "preview_ranking(ranking_arwu)"
   ]
  },
  {
   "cell_type": "markdown",
   "id": "a9b8fb63",
   "metadata": {},
   "source": [
    "## Clean Rankings"
   ]
  },
  {
   "cell_type": "markdown",
   "id": "f72fc5c4",
   "metadata": {},
   "source": [
    "Sometimes universities have different names in different rankings. For example, one ranking might use universities' full names while another might prefer acronyms. This might cause duplicates down the line.\n",
    "\n",
    "To avoid this issue, let's save all university names sorted alphabetically and try to spot duplicates. They typically appear next to each other, since they differ only slightly. Once we spot a duplicate, we pick the preferred name and add it to `normalize.py` as well as its alt-names, and we repeat this process until no duplicates are left."
   ]
  },
  {
   "cell_type": "code",
   "execution_count": 21,
   "id": "61f256b7",
   "metadata": {},
   "outputs": [],
   "source": [
    "unis_qs = {uni.name for uni in ranking_qs}\n",
    "unis_the = {uni.name for uni in ranking_the}\n",
    "unis_arwu = {uni.name for uni in ranking_arwu}\n",
    "\n",
    "unis_all = unis_qs | unis_the | unis_arwu\n",
    "\n",
    "with open(\"data/cs-2022/universities_sorted.tsv\", \"w\") as file:\n",
    "    for uni in sorted(unis_all):\n",
    "        file.write(f\"{uni}\\n\")\n",
    "    file.write(f\"Length: {len(unis_all)}\")"
   ]
  },
  {
   "cell_type": "markdown",
   "id": "7c1d41ff",
   "metadata": {},
   "source": [
    "## Combine Rankings"
   ]
  },
  {
   "cell_type": "code",
   "execution_count": 22,
   "id": "151dd7e9",
   "metadata": {},
   "outputs": [],
   "source": [
    "rankings = [ranking_qs, ranking_the, ranking_arwu]\n",
    "\n",
    "uni_ranks = defaultdict(list)\n",
    "for ranking in rankings:\n",
    "    for uni in ranking:\n",
    "        uni_ranks[uni.name].append(uni.rank)\n",
    "\n",
    "uni_ranks = dict(uni_ranks)"
   ]
  },
  {
   "cell_type": "code",
   "execution_count": 23,
   "id": "94156d63",
   "metadata": {},
   "outputs": [],
   "source": [
    "# Fill missing ranks\n",
    "for _, ranks in uni_ranks.items():\n",
    "    while len(ranks) < 3:\n",
    "            ranks.append(101) # Best possible rank when not in top-100"
   ]
  },
  {
   "cell_type": "code",
   "execution_count": 24,
   "id": "0de48819",
   "metadata": {},
   "outputs": [],
   "source": [
    "# Average ranks\n",
    "ranking_all = [Uni(name, mean(ranks)) for name, ranks in uni_ranks.items()]"
   ]
  },
  {
   "cell_type": "markdown",
   "id": "d342588c",
   "metadata": {},
   "source": [
    "## Save Final Ranking"
   ]
  },
  {
   "cell_type": "code",
   "execution_count": 25,
   "id": "5e55de6e",
   "metadata": {},
   "outputs": [
    {
     "name": "stdout",
     "output_type": "stream",
     "text": [
      "1\tMassachusetts Institute of Technology (MIT)\t1.67\n",
      "2\tStanford University\t2.00\n",
      "3\tCarnegie Mellon University\t4.33\n",
      "4\tUniversity of California, Berkeley\t5.33\n",
      "5\tUniversity of Oxford\t5.33\n",
      "6\tETH Zurich\t6.33\n",
      "7\tHarvard University\t7.00\n",
      "8\tNational University of Singapore (NUS)\t9.00\n",
      "9\tTsinghua University\t10.33\n",
      "10\tNanyang Technological University (NTU)\t11.67\n",
      "11\tPrinceton University\t12.67\n",
      "12\tUniversity of California, Los Angeles (UCLA)\t12.67\n",
      "13\tUniversity of Toronto\t16.00\n",
      "14\tCornell University\t18.00\n",
      "15\tPeking University\t19.67\n",
      "16\tUniversity of Cambridge\t20.67\n",
      "17\tImperial College London\t22.00\n",
      "18\tUniversity of Washington\t22.33\n",
      "19\tShanghai Jiao Tong University\t25.00\n",
      "20\tUniversity College London (UCL)\t26.00\n",
      "21\tUniversity of Edinburgh\t26.00\n",
      "22\tColumbia University\t28.00\n",
      "23\tNew York University (NYU)\t28.33\n",
      "24\tGeorgia Institute of Technology (Georgia Tech)\t29.67\n",
      "25\tSwiss Federal Institute of Technology Lausanne (EPFL)\t30.33\n",
      "26\tUniversity of Texas at Austin\t30.67\n",
      "27\tChinese University of Hong Kong (CUHK)\t31.33\n",
      "28\tUniversity of Michigan-Ann Arbor\t35.00\n",
      "29\tHong Kong University of Science and Technology\t35.33\n",
      "30\tZhejiang University\t35.33\n",
      "31\tTechnical University of Munich\t37.33\n",
      "32\tUniversity of Southern California\t37.33\n",
      "33\tUniversity of Illinois at Urbana-Champaign\t38.67\n",
      "34\tUniversity of Waterloo\t44.33\n",
      "35\tCalifornia Institute of Technology (Caltech)\t45.33\n",
      "36\tUniversity of British Columbia\t45.67\n",
      "37\tUniversity of Montreal\t48.00\n",
      "38\tUniversity of California, San Diego (UCSD)\t49.67\n",
      "39\tUniversity of Pennsylvania\t50.67\n",
      "40\tUniversity of Technology Sydney\t52.00\n",
      "41\tKorea Advanced Institute of Science and Technology (KAIST)\t52.33\n",
      "42\tUniversity of Science and Technology of China\t53.00\n",
      "43\tUniversity of Sydney\t54.00\n",
      "44\tYale University\t54.33\n",
      "45\tUniversity of Maryland, College Park\t54.33\n",
      "46\tUniversity of Tokyo\t55.33\n",
      "47\tParis Sciences et Lettres (PSL University)\t55.67\n",
      "48\tAustralian National University\t56.67\n",
      "49\tUniversity of Hong Kong\t57.33\n",
      "50\tUniversity of Wisconsin–Madison\t58.00\n",
      "51\tUniversity of North Carolina at Chapel Hill\t59.00\n",
      "52\tUniversity of Melbourne\t59.33\n",
      "53\tJohns Hopkins University\t59.33\n",
      "54\tSeoul National University\t61.00\n",
      "55\tUniversity of Chicago\t61.33\n",
      "56\tUniversity of New South Wales (UNSW Sydney)\t62.33\n",
      "57\tCity University of Hong Kong\t64.33\n",
      "58\tMcGill University\t68.00\n",
      "59\tHong Kong Polytechnic University\t69.00\n",
      "60\tKU Leuven\t69.67\n"
     ]
    }
   ],
   "source": [
    "def save_ranking(ranking: list[Uni], limit: int = None) -> None:\n",
    "    \"\"\"Save ranking to file and preview it.\"\"\"\n",
    "    ranking_sorted = [uni for uni in sorted(ranking_all, key=lambda uni: uni.rank)]\n",
    "    with open(\"data/cs-2022/ranking_global_cs_2022.tsv\", \"w\") as file:\n",
    "        for i, uni in enumerate(ranking_sorted, start=1):\n",
    "            row = f\"{i}\\t{uni.name}\\t{uni.rank:.2f}\"\n",
    "            file.write(f\"{row}\\n\")\n",
    "            print(row)  # Preview\n",
    "            if i == limit:\n",
    "                break\n",
    "\n",
    "save_ranking(ranking_all, 60)"
   ]
  },
  {
   "cell_type": "markdown",
   "id": "45573aca",
   "metadata": {},
   "source": [
    "## Get IDs (Helper)"
   ]
  },
  {
   "cell_type": "code",
   "execution_count": 26,
   "id": "087066ad",
   "metadata": {},
   "outputs": [
    {
     "name": "stdout",
     "output_type": "stream",
     "text": [
      "Unis without id: ['University of Southern California']\n",
      "$top50cs =  [39, 1, 40, 3, 1092, 288, 38, 72, 168, 170, 6, 692, 8, 225, 159, 978, 1043, 15, 238, 384, 14, 33, 483, 12, 16, 86, 48, 2, 31, 2027, 74, 17, 2444, 11, 4, 1458, 49, 5, 813, 399, 930, 977, 99, 22, 69, 888, 292, 405, 56, 70]\n"
     ]
    }
   ],
   "source": [
    "def get_ids(ranking: list[Uni], limit: int = None) -> list[int]:\n",
    "    ranking_sorted = [uni for uni in sorted(ranking_all, key=lambda uni: uni.rank)]\n",
    "    ranking_sorted_ids = []\n",
    "    unis_without_id = []\n",
    "    for uni in ranking_sorted[:limit]:\n",
    "        if uni.name in main2id:\n",
    "            ranking_sorted_ids.append(main2id[uni.name])\n",
    "        else:\n",
    "            unis_without_id.append(uni.name)\n",
    "    # print(\"Ranked unis ids:\", ranking_sorted_ids)\n",
    "    print(\"Unis without id:\", unis_without_id)\n",
    "    return ranking_sorted_ids\n",
    "\n",
    "top_50_cs = get_ids(ranking_all, 60)[:50]\n",
    "print(\"$top50cs = \", top_50_cs)"
   ]
  }
 ],
 "metadata": {
  "kernelspec": {
   "display_name": "Python 3",
   "language": "python",
   "name": "python3"
  },
  "language_info": {
   "codemirror_mode": {
    "name": "ipython",
    "version": 3
   },
   "file_extension": ".py",
   "mimetype": "text/x-python",
   "name": "python",
   "nbconvert_exporter": "python",
   "pygments_lexer": "ipython3",
   "version": "3.9.7"
  }
 },
 "nbformat": 4,
 "nbformat_minor": 5
}
