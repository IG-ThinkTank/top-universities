{
 "cells": [
  {
   "cell_type": "markdown",
   "id": "71021cc2",
   "metadata": {},
   "source": [
    "# World Top CS Universities [2021]"
   ]
  },
  {
   "cell_type": "markdown",
   "id": "56994961",
   "metadata": {},
   "source": [
    "## Import Modules"
   ]
  },
  {
   "cell_type": "code",
   "execution_count": 28,
   "id": "65141b66",
   "metadata": {},
   "outputs": [],
   "source": [
    "import csv\n",
    "from collections import defaultdict\n",
    "from dataclasses import dataclass\n",
    "from itertools import islice\n",
    "from statistics import mean\n",
    "\n",
    "from normalize import alt2main, main2id"
   ]
  },
  {
   "cell_type": "markdown",
   "id": "41acea18",
   "metadata": {},
   "source": [
    "## Define Model"
   ]
  },
  {
   "cell_type": "code",
   "execution_count": 29,
   "id": "fa98a0ea",
   "metadata": {},
   "outputs": [],
   "source": [
    "@dataclass\n",
    "class Uni:\n",
    "    \"\"\"Represent university.\"\"\"\n",
    "    name: str\n",
    "    rank: int"
   ]
  },
  {
   "cell_type": "markdown",
   "id": "2e695f7a",
   "metadata": {},
   "source": [
    "## Load Rankings"
   ]
  },
  {
   "cell_type": "code",
   "execution_count": 30,
   "id": "9c1aafd4",
   "metadata": {},
   "outputs": [],
   "source": [
    "def format(rank: str) -> int:\n",
    "    \"\"\"Format rank as an integer.\"\"\"\n",
    "    if rank.startswith(\"=\"):\n",
    "        return int(rank[1:])\n",
    "    if rank.endswith(\"+\"):\n",
    "        return int(rank[:-1])\n",
    "    if \"–\" in rank:\n",
    "        return mean([int(val) for val in rank.split(\"–\")])\n",
    "    if \"-\" in rank:\n",
    "        return mean([int(val) for val in rank.split(\"-\")])\n",
    "    return int(rank)\n",
    "\n",
    "def normalize(name: str) -> str:\n",
    "    \"\"\"Normalize university names.\"\"\"\n",
    "    if name.startswith(\"The \"):\n",
    "        name = name[4:]\n",
    "    if name in alt2main:\n",
    "        return alt2main[name]\n",
    "    return name\n",
    "\n",
    "def load_ranking(path: str, delimiter: str = None, limit: int = None) -> list[Uni]:\n",
    "    \"\"\"Load ranking.\"\"\"\n",
    "    with open(path) as file:\n",
    "        reader = csv.reader(file, delimiter=delimiter)\n",
    "        next(reader)  # Skip header row\n",
    "        return [Uni(normalize(name), format(rank)) for name, rank in islice(reader, limit)]\n",
    "\n",
    "# Load universities\n",
    "ranking_the = load_ranking(\"ranking_scraper/the_math_2022.csv\", \",\", 100)\n",
    "ranking_qs = load_ranking(\"ranking_scraper/qs_math_2021.csv\", \",\", 100)\n",
    "ranking_arwu = load_ranking(\"ranking_scraper/arwu_math_2021.csv\", \",\", 100)"
   ]
  },
  {
   "cell_type": "markdown",
   "id": "f83d2615",
   "metadata": {},
   "source": [
    "## Preview Rankings"
   ]
  },
  {
   "cell_type": "code",
   "execution_count": 31,
   "id": "5a841061",
   "metadata": {},
   "outputs": [],
   "source": [
    "def preview_ranking(ranking: list[Uni], limit: int = 10) -> None:\n",
    "    \"\"\"Preview ranking.\"\"\"\n",
    "    # Print first universities in ranking\n",
    "    for i in range(limit):\n",
    "        uni = ranking[i]\n",
    "        print(f\"{uni.name}\\t{uni.rank}\")\n",
    "    print(\"...\")\n",
    "    # Print last universities in ranking\n",
    "    for i in range(len(ranking) - limit, len(ranking)):\n",
    "        uni = ranking[i]\n",
    "        print(f\"{uni.name}\\t{uni.rank}\")\n",
    "    print(\n",
    "        f\"-----------------------------\\n\"\n",
    "        f\"Length: {len(ranking)}\"\n",
    "    )"
   ]
  },
  {
   "cell_type": "code",
   "execution_count": 32,
   "id": "c12c8d35",
   "metadata": {},
   "outputs": [
    {
     "name": "stdout",
     "output_type": "stream",
     "text": [
      "University of California, Berkeley\t1\n",
      "California Institute of Technology (Caltech)\t2\n",
      "Princeton University\t2\n",
      "Massachusetts Institute of Technology (MIT)\t4\n",
      "Stanford University\t4\n",
      "Harvard University\t6\n",
      "University of Cambridge\t7\n",
      "University of Oxford\t8\n",
      "ETH Zurich\t9\n",
      "Yale University\t10\n",
      "...\n",
      "University of Zurich\t90\n",
      "Sapienza University of Rome\t92\n",
      "Free University of Berlin\t93\n",
      "King's College London\t94\n",
      "University of Bern\t95\n",
      "Lomonosov Moscow State University\t95\n",
      "Université Grenoble Alpes\t97\n",
      "University of Copenhagen\t98\n",
      "Durham University\t99\n",
      "KU Leuven\t100\n",
      "-----------------------------\n",
      "Length: 100\n"
     ]
    }
   ],
   "source": [
    "preview_ranking(ranking_the)"
   ]
  },
  {
   "cell_type": "code",
   "execution_count": 33,
   "id": "1ed902e3",
   "metadata": {},
   "outputs": [
    {
     "name": "stdout",
     "output_type": "stream",
     "text": [
      "Massachusetts Institute of Technology (MIT)\t1\n",
      "Stanford University\t2\n",
      "Harvard University\t3\n",
      "University of Cambridge\t4\n",
      "University of Oxford\t5\n",
      "University of California, Berkeley\t6\n",
      "Princeton University\t7\n",
      "ETH Zurich\t8\n",
      "National University of Singapore (NUS)\t9\n",
      "University of California, Los Angeles (UCLA)\t10\n",
      "...\n",
      "Pennsylvania State University\t90\n",
      "Moscow Institute of Physics and Technology (MIPT)\t92\n",
      "RWTH Aachen University\t92\n",
      "University of Queensland\t92\n",
      "HSE University\t95\n",
      "University of Bonn\t96\n",
      "Universidade de São Paulo\t96\n",
      "Ohio State University\t98\n",
      "University of Bath\t99\n",
      "University of Copenhagen\t100\n",
      "-----------------------------\n",
      "Length: 100\n"
     ]
    }
   ],
   "source": [
    "preview_ranking(ranking_qs)"
   ]
  },
  {
   "cell_type": "code",
   "execution_count": 34,
   "id": "e96a5910",
   "metadata": {},
   "outputs": [
    {
     "name": "stdout",
     "output_type": "stream",
     "text": [
      "Paris-Saclay University\t1\n",
      "Princeton University\t2\n",
      "Sorbonne University\t3\n",
      "University of Cambridge\t4\n",
      "University of Oxford\t5\n",
      "Stanford University\t6\n",
      "Massachusetts Institute of Technology (MIT)\t7\n",
      "New York University (NYU)\t8\n",
      "ETH Zurich\t9\n",
      "University of Texas at Austin\t10\n",
      "...\n",
      "University of Florida\t88\n",
      "University of Granada\t88\n",
      "University of Pavia\t88\n",
      "University of Rennes 1\t88\n",
      "University of Roma - Tor Vergata\t88\n",
      "University of Virginia\t88\n",
      "University of Warsaw\t88\n",
      "University Paris Est Creteil\t88\n",
      "Wuhan University\t88\n",
      "Autonomous University of Madrid\t125.5\n",
      "-----------------------------\n",
      "Length: 100\n"
     ]
    }
   ],
   "source": [
    "preview_ranking(ranking_arwu)"
   ]
  },
  {
   "cell_type": "markdown",
   "id": "a9b8fb63",
   "metadata": {},
   "source": [
    "## Clean Rankings"
   ]
  },
  {
   "cell_type": "markdown",
   "id": "f72fc5c4",
   "metadata": {},
   "source": [
    "Sometimes universities have different names in different rankings. For example, one ranking might use universities' full names while another might prefer acronyms. This might cause duplicates down the line.\n",
    "\n",
    "To avoid this issue, let's save all university names sorted alphabetically and try to spot duplicates. They typically appear next to each other, since they differ only slightly. Once we spot a duplicate, we pick the preferred name and add it to `normalize.py` as well as its alt-names, and we repeat this process until no duplicates are left."
   ]
  },
  {
   "cell_type": "code",
   "execution_count": 35,
   "id": "61f256b7",
   "metadata": {},
   "outputs": [],
   "source": [
    "unis_qs = {uni.name for uni in ranking_qs}\n",
    "unis_the = {uni.name for uni in ranking_the}\n",
    "unis_arwu = {uni.name for uni in ranking_arwu}\n",
    "\n",
    "unis_all = unis_qs | unis_the | unis_arwu\n",
    "\n",
    "with open(\"data/math-2022/universities_sorted.tsv\", \"w\") as file:\n",
    "    for uni in sorted(unis_all):\n",
    "        file.write(f\"{uni}\\n\")\n",
    "    file.write(f\"Length: {len(unis_all)}\")"
   ]
  },
  {
   "cell_type": "markdown",
   "id": "7c1d41ff",
   "metadata": {},
   "source": [
    "## Combine Rankings"
   ]
  },
  {
   "cell_type": "code",
   "execution_count": 36,
   "id": "151dd7e9",
   "metadata": {},
   "outputs": [],
   "source": [
    "rankings = [ranking_qs, ranking_the, ranking_arwu]\n",
    "\n",
    "uni_ranks = defaultdict(list)\n",
    "for ranking in rankings:\n",
    "    for uni in ranking:\n",
    "        uni_ranks[uni.name].append(uni.rank)\n",
    "\n",
    "uni_ranks = dict(uni_ranks)"
   ]
  },
  {
   "cell_type": "code",
   "execution_count": 37,
   "id": "94156d63",
   "metadata": {},
   "outputs": [],
   "source": [
    "# Fill missing ranks\n",
    "for _, ranks in uni_ranks.items():\n",
    "    while len(ranks) < 3:\n",
    "            ranks.append(101) # Best possible rank when not in top-100"
   ]
  },
  {
   "cell_type": "code",
   "execution_count": 38,
   "id": "0de48819",
   "metadata": {},
   "outputs": [],
   "source": [
    "# Average ranks\n",
    "ranking_all = [Uni(name, mean(ranks)) for name, ranks in uni_ranks.items()]"
   ]
  },
  {
   "cell_type": "markdown",
   "id": "d342588c",
   "metadata": {},
   "source": [
    "## Save Final Ranking"
   ]
  },
  {
   "cell_type": "code",
   "execution_count": 39,
   "id": "5e55de6e",
   "metadata": {},
   "outputs": [
    {
     "name": "stdout",
     "output_type": "stream",
     "text": [
      "1\tPrinceton University\t3.67\n",
      "2\tMassachusetts Institute of Technology (MIT)\t4.00\n",
      "3\tStanford University\t4.00\n",
      "4\tUniversity of Cambridge\t5.00\n",
      "5\tUniversity of Oxford\t6.00\n",
      "6\tUniversity of California, Berkeley\t6.33\n",
      "7\tHarvard University\t8.33\n",
      "8\tETH Zurich\t8.67\n",
      "9\tUniversity of California, Los Angeles (UCLA)\t11.67\n",
      "10\tImperial College London\t13.67\n"
     ]
    }
   ],
   "source": [
    "def save_ranking(ranking: list[Uni], limit: int = None) -> None:\n",
    "    \"\"\"Save ranking to file and preview it.\"\"\"\n",
    "    ranking_sorted = [uni for uni in sorted(ranking_all, key=lambda uni: uni.rank)]\n",
    "    with open(\"data/math-2022/ranking_global_math_2022.tsv\", \"w\") as file:\n",
    "        for i, uni in enumerate(ranking_sorted, start=1):\n",
    "            row = f\"{i}\\t{uni.name}\\t{uni.rank:.2f}\"\n",
    "            file.write(f\"{row}\\n\")\n",
    "            print(row)  # Preview\n",
    "            if i == limit:\n",
    "                break\n",
    "\n",
    "save_ranking(ranking_all, 10)"
   ]
  },
  {
   "cell_type": "markdown",
   "id": "45573aca",
   "metadata": {},
   "source": [
    "## Get IDs (Helper)"
   ]
  },
  {
   "cell_type": "code",
   "execution_count": 40,
   "id": "087066ad",
   "metadata": {},
   "outputs": [
    {
     "name": "stdout",
     "output_type": "stream",
     "text": [
      "Unis without id: ['University of Bonn', 'Humboldt University of Berlin']\n",
      "$top60math =  [6, 39, 1, 978, 1092, 3, 38, 288, 692, 1043, 888, 119, 33, 11, 8, 159, 2, 86, 483, 355, 72, 16, 99, 12, 168, 56, 4, 17, 14, 69, 322, 15, 794, 384, 266, 225, 49, 62, 187, 74, 29, 22, 1248, 170, 5, 40, 976, 930, 268, 292, 31, 405, 7, 9, 24, 227, 238, 48]\n"
     ]
    }
   ],
   "source": [
    "def get_ids(ranking: list[Uni], limit: int = None) -> list[int]:\n",
    "    ranking_sorted = [uni for uni in sorted(ranking_all, key=lambda uni: uni.rank)]\n",
    "    ranking_sorted_ids = []\n",
    "    unis_without_id = []\n",
    "    for uni in ranking_sorted[:limit]:\n",
    "        if uni.name in main2id:\n",
    "            ranking_sorted_ids.append(main2id[uni.name])\n",
    "        else:\n",
    "            unis_without_id.append(uni.name)\n",
    "    # print(\"Ranked unis ids:\", ranking_sorted_ids)\n",
    "    print(\"Unis without id:\", unis_without_id)\n",
    "    return ranking_sorted_ids\n",
    "\n",
    "top_60_math = get_ids(ranking_all, 60)\n",
    "print(\"$top60math = \", top_60_math)"
   ]
  }
 ],
 "metadata": {
  "kernelspec": {
   "display_name": "Python 3",
   "language": "python",
   "name": "python3"
  },
  "language_info": {
   "codemirror_mode": {
    "name": "ipython",
    "version": 3
   },
   "file_extension": ".py",
   "mimetype": "text/x-python",
   "name": "python",
   "nbconvert_exporter": "python",
   "pygments_lexer": "ipython3",
   "version": "3.9.7"
  }
 },
 "nbformat": 4,
 "nbformat_minor": 5
}
