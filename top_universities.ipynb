{
 "cells": [
  {
   "cell_type": "markdown",
   "id": "71021cc2",
   "metadata": {},
   "source": [
    "# World Top CS Universities [2021]"
   ]
  },
  {
   "cell_type": "markdown",
   "id": "56994961",
   "metadata": {},
   "source": [
    "## Import Modules"
   ]
  },
  {
   "cell_type": "code",
   "execution_count": 1,
   "id": "65141b66",
   "metadata": {},
   "outputs": [],
   "source": [
    "import csv\n",
    "from collections import defaultdict\n",
    "from dataclasses import dataclass\n",
    "from itertools import islice\n",
    "from statistics import mean\n",
    "\n",
    "from normalize import alt2main"
   ]
  },
  {
   "cell_type": "markdown",
   "id": "41acea18",
   "metadata": {},
   "source": [
    "## Define Model"
   ]
  },
  {
   "cell_type": "code",
   "execution_count": 2,
   "id": "fa98a0ea",
   "metadata": {},
   "outputs": [],
   "source": [
    "@dataclass\n",
    "class Uni:\n",
    "    \"\"\"Represent university.\"\"\"\n",
    "    name: str\n",
    "    rank: int"
   ]
  },
  {
   "cell_type": "markdown",
   "id": "2e695f7a",
   "metadata": {},
   "source": [
    "## Load Rankings"
   ]
  },
  {
   "cell_type": "code",
   "execution_count": 3,
   "id": "9c1aafd4",
   "metadata": {},
   "outputs": [],
   "source": [
    "def format(rank: str) -> int:\n",
    "    \"\"\"Format rank as an integer.\"\"\"\n",
    "    if rank.startswith(\"=\"):\n",
    "        return int(rank[1:])\n",
    "    if rank.endswith(\"+\"):\n",
    "        return int(rank[:-1])\n",
    "    if \"–\" in rank:\n",
    "        return mean([int(val) for val in rank.split(\"–\")])\n",
    "    if \"-\" in rank:\n",
    "        return mean([int(val) for val in rank.split(\"-\")])\n",
    "    return int(rank)\n",
    "\n",
    "def normalize(name: str) -> str:\n",
    "    \"\"\"Normalize university names.\"\"\"\n",
    "    if name.startswith(\"The \"):\n",
    "        name = name[4:]\n",
    "    if name in alt2main:\n",
    "        return alt2main[name]\n",
    "    return name\n",
    "\n",
    "def load_ranking(path: str, delimiter: str = None, limit: int = None) -> list[Uni]:\n",
    "    \"\"\"Load ranking.\"\"\"\n",
    "    with open(path) as file:\n",
    "        reader = csv.reader(file, delimiter=delimiter)\n",
    "        next(reader)  # Skip header row\n",
    "        return [Uni(normalize(name), format(rank)) for name, rank in islice(reader, limit)]\n",
    "\n",
    "# Load universities\n",
    "ranking_the = load_ranking(\"ranking_scraper/the_cs_2022.csv\", \",\", 100)\n",
    "ranking_qs = load_ranking(\"ranking_scraper/qs_cs_2021.csv\", \",\", 100)\n",
    "ranking_arwu = load_ranking(\"ranking_scraper/arwu_cs_2021.csv\", \",\", 100)"
   ]
  },
  {
   "cell_type": "markdown",
   "id": "f83d2615",
   "metadata": {},
   "source": [
    "## Preview Rankings"
   ]
  },
  {
   "cell_type": "code",
   "execution_count": 4,
   "id": "5a841061",
   "metadata": {},
   "outputs": [],
   "source": [
    "def preview_ranking(ranking: list[Uni], limit: int = 10) -> None:\n",
    "    \"\"\"Preview ranking.\"\"\"\n",
    "    # Print first universities in ranking\n",
    "    for i in range(limit):\n",
    "        uni = ranking[i]\n",
    "        print(f\"{uni.name}\\t{uni.rank}\")\n",
    "    print(\"...\")\n",
    "    # Print last universities in ranking\n",
    "    for i in range(len(ranking) - limit, len(ranking)):\n",
    "        uni = ranking[i]\n",
    "        print(f\"{uni.name}\\t{uni.rank}\")\n",
    "    print(\n",
    "        f\"-----------------------------\\n\"\n",
    "        f\"Length: {len(ranking)}\"\n",
    "    )"
   ]
  },
  {
   "cell_type": "code",
   "execution_count": 5,
   "id": "c12c8d35",
   "metadata": {},
   "outputs": [
    {
     "name": "stdout",
     "output_type": "stream",
     "text": [
      "University of Oxford\t1\n",
      "Stanford University\t2\n",
      "Massachusetts Institute of Technology (MIT)\t3\n",
      "University of Cambridge\t4\n",
      "ETH Zurich\t4\n",
      "Carnegie Mellon University\t6\n",
      "Harvard University\t7\n",
      "University of California, Berkeley\t8\n",
      "National University of Singapore (NUS)\t8\n",
      "Princeton University\t10\n",
      "...\n",
      "Tokyo Institute of Technology (Tokyo Tech)\t88\n",
      "University of Southampton\t91\n",
      "University of Birmingham\t92\n",
      "University of Luxembourg\t93\n",
      "Monash University\t93\n",
      "University of Zurich\t93\n",
      "Vrije Universiteit Amsterdam\t96\n",
      "Technion Israel Institute of Technology\t97\n",
      "TU Wien\t97\n",
      "Queen Mary University of London\t99\n",
      "-----------------------------\n",
      "Length: 100\n"
     ]
    }
   ],
   "source": [
    "preview_ranking(ranking_the)"
   ]
  },
  {
   "cell_type": "code",
   "execution_count": 6,
   "id": "1ed902e3",
   "metadata": {},
   "outputs": [
    {
     "name": "stdout",
     "output_type": "stream",
     "text": [
      "Massachusetts Institute of Technology (MIT)\t1\n",
      "Stanford University\t2\n",
      "Carnegie Mellon University\t3\n",
      "National University of Singapore (NUS)\t4\n",
      "University of California, Berkeley\t5\n",
      "University of Oxford\t6\n",
      "Harvard University\t7\n",
      "University of Cambridge\t8\n",
      "Swiss Federal Institute of Technology Lausanne (EPFL)\t9\n",
      "ETH Zurich\t10\n",
      "...\n",
      "University of Wisconsin–Madison\t89\n",
      "Boston University\t92\n",
      "Karlsruhe Institute of Technology (KIT)\t92\n",
      "Universidad Nacional Autónoma de México (UNAM)\t94\n",
      "University of Massachusetts (UMass)\t95\n",
      "Aalto University\t96\n",
      "University of Warwick\t96\n",
      "Université catholique de Louvain (UCL)\t96\n",
      "Aarhus University\t99\n",
      "University of Adelaide\t99\n",
      "-----------------------------\n",
      "Length: 100\n"
     ]
    }
   ],
   "source": [
    "preview_ranking(ranking_qs)"
   ]
  },
  {
   "cell_type": "code",
   "execution_count": 7,
   "id": "e96a5910",
   "metadata": {},
   "outputs": [
    {
     "name": "stdout",
     "output_type": "stream",
     "text": [
      "Massachusetts Institute of Technology (MIT)\t1\n",
      "Stanford University\t2\n",
      "University of California, Berkeley\t3\n",
      "Carnegie Mellon University\t4\n",
      "ETH Zurich\t5\n",
      "Tsinghua University\t6\n",
      "Harvard University\t7\n",
      "Nanyang Technological University (NTU)\t8\n",
      "University of Oxford\t9\n",
      "University of California, Los Angeles (UCLA)\t10\n",
      "...\n",
      "Sichuan University\t88\n",
      "Swinburne University of Technology\t88\n",
      "Technical University of Denmark\t88\n",
      "University of Hong Kong\t88\n",
      "University of Melbourne\t88\n",
      "Tongji University\t88\n",
      "Université Grenoble Alpes\t88\n",
      "University of California, Merced\t88\n",
      "University of Macau\t88\n",
      "University of Pennsylvania\t88\n",
      "-----------------------------\n",
      "Length: 100\n"
     ]
    }
   ],
   "source": [
    "preview_ranking(ranking_arwu)"
   ]
  },
  {
   "cell_type": "markdown",
   "id": "a9b8fb63",
   "metadata": {},
   "source": [
    "## Clean Rankings"
   ]
  },
  {
   "cell_type": "markdown",
   "id": "f72fc5c4",
   "metadata": {},
   "source": [
    "Sometimes universities have different names in different rankings. For example, one ranking might use universities' full names while another might prefer acronyms. This might cause duplicates down the line.\n",
    "\n",
    "To avoid this issue, let's save all university names sorted alphabetically and try to spot duplicates. They typically appear next to each other, since they differ only slightly. Once we spot a duplicate, we pick the preferred name, update our TSV rankings, and repeat this process until no duplicates are left."
   ]
  },
  {
   "cell_type": "code",
   "execution_count": 8,
   "id": "61f256b7",
   "metadata": {},
   "outputs": [],
   "source": [
    "unis_qs = {uni.name for uni in ranking_qs}\n",
    "unis_the = {uni.name for uni in ranking_the}\n",
    "unis_arwu = {uni.name for uni in ranking_arwu}\n",
    "\n",
    "unis_all = unis_qs | unis_the | unis_arwu\n",
    "\n",
    "with open(\"data/cs-2022/universities_sorted.tsv\", \"w\") as file:\n",
    "    for uni in sorted(unis_all):\n",
    "        file.write(f\"{uni}\\n\")\n",
    "    file.write(f\"Length: {len(unis_all)}\")"
   ]
  },
  {
   "cell_type": "markdown",
   "id": "7c1d41ff",
   "metadata": {},
   "source": [
    "## Combine Rankings"
   ]
  },
  {
   "cell_type": "code",
   "execution_count": null,
   "id": "151dd7e9",
   "metadata": {},
   "outputs": [],
   "source": [
    "rankings = [ranking_qs, ranking_the, ranking_arwu]\n",
    "\n",
    "uni_ranks = defaultdict(list)\n",
    "for ranking in rankings:\n",
    "    for uni in ranking:\n",
    "        uni_ranks[uni.name].append(uni.rank)\n",
    "\n",
    "uni_ranks = dict(uni_ranks)"
   ]
  },
  {
   "cell_type": "code",
   "execution_count": null,
   "id": "94156d63",
   "metadata": {},
   "outputs": [],
   "source": [
    "# Fill missing ranks\n",
    "for _, ranks in uni_ranks.items():\n",
    "    while len(ranks) < 3:\n",
    "            ranks.append(101) # Best possible rank when not in top-100"
   ]
  },
  {
   "cell_type": "code",
   "execution_count": null,
   "id": "0de48819",
   "metadata": {},
   "outputs": [],
   "source": [
    "# Average ranks\n",
    "ranking_all = [Uni(name, mean(ranks)) for name, ranks in uni_ranks.items()]"
   ]
  },
  {
   "cell_type": "markdown",
   "id": "d342588c",
   "metadata": {},
   "source": [
    "## Save Final Ranking"
   ]
  },
  {
   "cell_type": "code",
   "execution_count": null,
   "id": "5e55de6e",
   "metadata": {},
   "outputs": [],
   "source": [
    "def save_ranking(ranking: list[Uni], limit: int = None) -> None:\n",
    "    \"\"\"Save ranking to file and preview it.\"\"\"\n",
    "    ranking_sorted = [uni for uni in sorted(ranking_all, key=lambda uni: uni.rank)]\n",
    "    with open(\"data/cs-2021/ranking_global_cs_2021.tsv\", \"w\") as file:\n",
    "        for i, uni in enumerate(ranking_sorted, start=1):\n",
    "            row = f\"{i}\\t{uni.name}\\t{uni.rank:.2f}\"\n",
    "            file.write(f\"{row}\\n\")\n",
    "            print(row)  # Preview\n",
    "            if i == limit:\n",
    "                break\n",
    "\n",
    "save_ranking(ranking_all, 60)"
   ]
  }
 ],
 "metadata": {
  "kernelspec": {
   "display_name": "Python 3",
   "language": "python",
   "name": "python3"
  },
  "language_info": {
   "codemirror_mode": {
    "name": "ipython",
    "version": 3
   },
   "file_extension": ".py",
   "mimetype": "text/x-python",
   "name": "python",
   "nbconvert_exporter": "python",
   "pygments_lexer": "ipython3",
   "version": "3.9.7"
  }
 },
 "nbformat": 4,
 "nbformat_minor": 5
}
