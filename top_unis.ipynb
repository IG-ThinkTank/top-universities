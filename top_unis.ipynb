{
 "cells": [
  {
   "cell_type": "markdown",
   "id": "eff8d927-6e5b-452a-8272-d72b1f253968",
   "metadata": {},
   "source": [
    "# World Top Universities 2023"
   ]
  },
  {
   "cell_type": "markdown",
   "id": "107cdbe6-59ad-4ed0-8c87-c1ad3b2ee364",
   "metadata": {},
   "source": [
    "In this Jupyter Notebook, we're going to combine the rankings we scraped into one."
   ]
  },
  {
   "cell_type": "markdown",
   "id": "a8b89da9-c7fd-4c40-9fe6-018ab5b2c2d5",
   "metadata": {},
   "source": [
    "## Define Settings"
   ]
  },
  {
   "cell_type": "code",
   "execution_count": 1,
   "id": "10b95789-d157-471f-bfe3-5e48a1c43d41",
   "metadata": {},
   "outputs": [],
   "source": [
    "year = 2023\n",
    "subject = \"cs\""
   ]
  },
  {
   "cell_type": "markdown",
   "id": "f51e286e-a025-4b97-adaf-a0dd21969569",
   "metadata": {},
   "source": [
    "## Import Modules"
   ]
  },
  {
   "cell_type": "code",
   "execution_count": 2,
   "id": "f0586226-266c-4e69-81b8-7ea1c5ebbe39",
   "metadata": {},
   "outputs": [],
   "source": [
    "import json\n",
    "\n",
    "from collections import defaultdict\n",
    "from dataclasses import dataclass\n",
    "from itertools import islice\n",
    "from normalize import alt2main, uni2id\n",
    "from statistics import mean"
   ]
  },
  {
   "cell_type": "markdown",
   "id": "c5c39ce1-8ab9-48d9-8352-3643fa63f5c1",
   "metadata": {},
   "source": [
    "## Define Data Model"
   ]
  },
  {
   "cell_type": "code",
   "execution_count": 3,
   "id": "1435a6d3-2824-44ed-8e40-c043951bd363",
   "metadata": {},
   "outputs": [],
   "source": [
    "@dataclass\n",
    "class Uni:\n",
    "    \"\"\"Represent a university.\"\"\"\n",
    "    name: str\n",
    "    rank: int"
   ]
  },
  {
   "cell_type": "markdown",
   "id": "08e79f8a-8a46-4b70-a3c4-d1758856f0fe",
   "metadata": {},
   "source": [
    "## Load Scraped Rankings"
   ]
  },
  {
   "cell_type": "code",
   "execution_count": 4,
   "id": "a1178b15-bc82-4bed-86ae-be366a5bf9b7",
   "metadata": {},
   "outputs": [],
   "source": [
    "def load_ranking(path: str, limit: int = None) -> None:\n",
    "    \"\"\"Load ranking.\"\"\"\n",
    "    with open(path) as file:\n",
    "        return [Uni(**json.loads(line)) for line in islice(file, limit)]\n",
    "\n",
    "base = \"./scraper/data_scraped\"\n",
    "qs = load_ranking(f\"{base}/qs.jsonl\", 100)\n",
    "the = load_ranking(f\"{base}/the.jsonl\", 100)\n",
    "arwu = load_ranking(f\"{base}/arwu.jsonl\", 100)"
   ]
  },
  {
   "cell_type": "markdown",
   "id": "c254993e-91dd-4db8-b32d-d9295a91f4fc",
   "metadata": {},
   "source": [
    "## Preview Scraped Rankings"
   ]
  },
  {
   "cell_type": "code",
   "execution_count": 5,
   "id": "094f7951-2ddb-4ecd-b7f4-e7dbf6603a37",
   "metadata": {},
   "outputs": [],
   "source": [
    "def preview_ranking(ranking: list[Uni], limit: int = None) -> None:\n",
    "    \"\"\"Preview ranking.\"\"\"\n",
    "    for uni in islice(ranking, limit):\n",
    "        print(f\"{uni.name}\\t{uni.rank}\")\n",
    "    print(\"...\")\n",
    "    for uni in islice(ranking, len(ranking) - (limit if limit else 0), len(ranking)):\n",
    "        print(f\"{uni.name}\\t{uni.rank}\")"
   ]
  },
  {
   "cell_type": "code",
   "execution_count": 6,
   "id": "b920fc27-563d-42a1-838d-996d2aea60e7",
   "metadata": {},
   "outputs": [
    {
     "name": "stdout",
     "output_type": "stream",
     "text": [
      "Massachusetts Institute of Technology (MIT)\t1\n",
      "Carnegie Mellon University\t2\n",
      "Stanford University\t3\n",
      "University of California, Berkeley (UCB)\t4\n",
      "University of Oxford\t5\n",
      "National University of Singapore (NUS)\t6\n",
      "University of Cambridge\t7\n",
      "Harvard University\t8\n",
      "ETH Zurich\t9\n",
      "EPFL\t10\n",
      "...\n",
      "Ludwig-Maximilians-Universität München\t91\n",
      "Trinity College Dublin, The University of Dublin\t92\n",
      "University of Wisconsin-Madison\t93\n",
      "Indian Institute of Technology Kharagpur (IIT-KGP)\t94\n",
      "Huazhong University of Science and Technology\t95\n",
      "Indian Institute of Technology Kanpur (IITK)\t96\n",
      "University of California, Irvine\t97\n",
      "Boston University\t98\n",
      "IMT Atlantique\t99\n",
      "Xi’an Jiaotong University\t100\n"
     ]
    }
   ],
   "source": [
    "preview_ranking(qs, 10)"
   ]
  },
  {
   "cell_type": "code",
   "execution_count": 7,
   "id": "8b522cd3-40bc-422f-a238-d67147038e0c",
   "metadata": {},
   "outputs": [
    {
     "name": "stdout",
     "output_type": "stream",
     "text": [
      "University of Oxford\t1\n",
      "Massachusetts Institute of Technology\t2\n",
      "Stanford University\t3\n",
      "ETH Zurich\t4\n",
      "Carnegie Mellon University\t5\n",
      "University of Cambridge\t6\n",
      "National University of Singapore\t7\n",
      "University of California, Berkeley\t8\n",
      "Harvard University\t9\n",
      "Technical University of Munich\t10\n",
      "...\n",
      "University of California, Davis\t91\n",
      "Purdue University West Lafayette\t91\n",
      "TU Wien\t93\n",
      "University of North Carolina at Chapel Hill\t94\n",
      "Qatar University\t95\n",
      "Virginia Polytechnic Institute and State University\t95\n",
      "University of Warsaw\t95\n",
      "Northwestern University\t98\n",
      "University of Bonn\t99\n",
      "Lomonosov Moscow State University\t100\n"
     ]
    }
   ],
   "source": [
    "preview_ranking(the, 10)"
   ]
  },
  {
   "cell_type": "code",
   "execution_count": 8,
   "id": "a0996369-2524-4d72-934e-fa12b5dc138e",
   "metadata": {},
   "outputs": [
    {
     "name": "stdout",
     "output_type": "stream",
     "text": [
      "Massachusetts Institute of Technology (MIT)\t1\n",
      "Stanford University\t2\n",
      "University of California, Berkeley\t3\n",
      "Carnegie Mellon University\t4\n",
      "Tsinghua University\t5\n",
      "Harvard University\t6\n",
      "ETH Zurich\t7\n",
      "Nanyang Technological University\t8\n",
      "University of Oxford\t9\n",
      "Princeton University\t10\n",
      "Columbia University\t11\n",
      "University of Electronic Science and Technology of China\t12\n",
      "National University of Singapore\t13\n",
      "University of California, Los Angeles\t14\n",
      "University of Toronto\t15\n",
      "Shanghai Jiao Tong University\t16\n",
      "University of Technology Sydney\t17\n",
      "Zhejiang University\t18\n",
      "Peking University\t19\n",
      "The Chinese University of Hong Kong\t20\n",
      "Huazhong University of Science and Technology\t21\n",
      "Cornell University\t22\n",
      "Beihang University\t23\n",
      "Harbin Institute of Technology\t24\n",
      "University of Southern California\t25\n",
      "Georgia Institute of Technology\t26\n",
      "Xidian University\t26\n",
      "New York University\t28\n",
      "University of Sydney\t29\n",
      "University of Oslo\t30\n",
      "The University of Edinburgh\t31\n",
      "University of Science and Technology of China\t32\n",
      "University of Montreal\t33\n",
      "City University of Hong Kong\t34\n",
      "The University of Texas at Austin\t35\n",
      "University College London\t36\n",
      "University of Washington\t37\n",
      "Imperial College London\t38\n",
      "Sun Yat-sen University\t39\n",
      "Southeast University\t40\n",
      "Tianjin University\t41\n",
      "Northwestern Polytechnical University\t42\n",
      "University of North Carolina at Chapel Hill\t43\n",
      "The Hong Kong Polytechnic University\t44\n",
      "Beijing University of Posts and Telecommunications\t45\n",
      "Wuhan University\t46\n",
      "The Hong Kong University of Science and Technology\t47\n",
      "Dalian University of Technology\t48\n",
      "University of Michigan-Ann Arbor\t49\n",
      "The University of Adelaide\t50\n",
      "Aalto University\t51\n",
      "Beijing Institute of Technology\t51\n",
      "Central South University\t51\n",
      "Johns Hopkins University\t51\n",
      "King Abdulaziz University\t51\n",
      "Nanjing University\t51\n",
      "Nanjing University of Science and Technology\t51\n",
      "National University of Defense Technology\t51\n",
      "Northeastern University (Shenyang)\t51\n",
      "Paris-Saclay University\t51\n",
      "Shenzhen University\t51\n",
      "South China University of Technology\t51\n",
      "Swiss Federal Institute of Technology Lausanne\t51\n",
      "Technical University of Munich\t51\n",
      "The University of New South Wales\t51\n",
      "University of Alberta\t51\n",
      "University of British Columbia\t51\n",
      "University of California, San Diego\t51\n",
      "University of Cambridge\t51\n",
      "University of Copenhagen\t51\n",
      "University of Illinois at Urbana-Champaign\t51\n",
      "University of Maryland, College Park\t51\n",
      "University of Waterloo\t51\n",
      "Weizmann Institute of Science\t51\n",
      "Xi'an Jiaotong University\t51\n",
      "Arizona State University\t76\n",
      "Deakin University\t76\n",
      "Griffith University\t76\n",
      "Guangdong University of Technology\t76\n",
      "King Saud University\t76\n",
      "Korea Advanced Institute of Science and Technology\t76\n",
      "Michigan State University\t76\n",
      "Monash University\t76\n",
      "Nanjing University of Information Science & Technology\t76\n",
      "Purdue University - West Lafayette\t76\n",
      "Rutgers, The State University of New Jersey - New Brunswick\t76\n",
      "Sichuan University\t76\n",
      "Singapore University of Technology & Design\t76\n",
      "Swinburne University of Technology\t76\n",
      "Technical University of Denmark\t76\n",
      "The Australian National University\t76\n",
      "The University of Hong Kong\t76\n",
      "The University of Melbourne\t76\n",
      "Tongji University\t76\n",
      "Université Grenoble Alpes\t76\n",
      "University of Macau\t76\n",
      "University of Pennsylvania\t76\n",
      "University of Surrey\t76\n",
      "Virginia Polytechnic Institute and State University\t76\n",
      "Xiamen University\t76\n",
      "...\n"
     ]
    }
   ],
   "source": [
    "preview_ranking(arwu)"
   ]
  },
  {
   "cell_type": "markdown",
   "id": "1f3ed03c-acd7-4f6e-bfb3-9efdd7b1a4f9",
   "metadata": {},
   "source": [
    "## Clean Rankings"
   ]
  },
  {
   "cell_type": "code",
   "execution_count": 9,
   "id": "66ab03ea-ac50-48e5-911b-641ab65bfd8a",
   "metadata": {},
   "outputs": [
    {
     "data": {
      "text/plain": [
       "{'Aalto University',\n",
       " 'Arizona State University',\n",
       " 'Australian National University',\n",
       " 'Beihang University',\n",
       " 'Beijing Institute of Technology',\n",
       " 'Beijing University of Posts and Telecommunications',\n",
       " 'Boston University',\n",
       " 'Brown University',\n",
       " 'California Institute of Technology (Caltech)',\n",
       " 'Carnegie Mellon University (CMU)',\n",
       " 'Central South University',\n",
       " 'Chinese University of Hong Kong (CUHK)',\n",
       " 'City University of Hong Kong',\n",
       " 'Columbia University',\n",
       " 'Cornell University',\n",
       " 'Dalian University of Technology',\n",
       " 'Deakin University',\n",
       " 'Delft University of Technology',\n",
       " 'Duke University',\n",
       " 'ETH Zurich',\n",
       " 'Eindhoven University of Technology',\n",
       " 'Fudan University',\n",
       " 'Georgia Institute of Technology (Georgia Tech)',\n",
       " 'Griffith University',\n",
       " 'Guangdong University of Technology',\n",
       " 'Harbin Institute of Technology',\n",
       " 'Harvard University',\n",
       " 'Hong Kong Polytechnic University',\n",
       " 'Huazhong University of Science and Technology',\n",
       " 'IMT Atlantique',\n",
       " 'ITMO University',\n",
       " 'Imperial College London',\n",
       " 'Indian Institute of Technology Bombay (IITB)',\n",
       " 'Indian Institute of Technology Delhi (IITD)',\n",
       " 'Indian Institute of Technology Kanpur (IITK)',\n",
       " 'Indian Institute of Technology Kharagpur (IIT-KGP)',\n",
       " 'Institut Polytechnique de Paris',\n",
       " 'Johns Hopkins University',\n",
       " 'KTH Royal Institute of Technology',\n",
       " 'KU Leuven',\n",
       " 'Karlsruhe Institute of Technology (KIT)',\n",
       " 'King Abdulaziz University (KAU)',\n",
       " 'King Saud University',\n",
       " \"King's College London\",\n",
       " 'Korea Advanced Institute of Science and Technology (KAIST)',\n",
       " 'Korea University',\n",
       " 'Kyoto University',\n",
       " 'Lomonosov Moscow State University',\n",
       " 'Ludwig Maximilian University of Munich (LMU)',\n",
       " 'Massachusetts Institute of Technology (MIT)',\n",
       " 'McGill University',\n",
       " 'Michigan State University',\n",
       " 'Monash University',\n",
       " 'Nanjing University',\n",
       " 'Nanjing University of Information Science & Technology',\n",
       " 'Nanjing University of Science and Technology',\n",
       " 'Nanyang Technological University (NTU)',\n",
       " 'National Taiwan University (NTU)',\n",
       " 'National University of Defense Technology',\n",
       " 'National University of Singapore (NUS)',\n",
       " 'New York University (NYU)',\n",
       " 'Northeastern University (Shenyang)',\n",
       " 'Northwestern Polytechnical University',\n",
       " 'Northwestern University',\n",
       " 'Paris Sciences et Lettres (PSL University)',\n",
       " 'Paris-Saclay University',\n",
       " 'Peking University',\n",
       " 'Pennsylvania State University',\n",
       " 'Pohang University of Science And Technology (POSTECH)',\n",
       " 'Politecnico di Milano',\n",
       " 'Polytechnic University of Catalonia (BarcelonaTech)',\n",
       " 'Princeton University',\n",
       " 'Purdue University',\n",
       " 'Qatar University',\n",
       " 'Queen Mary University of London',\n",
       " 'RWTH Aachen University',\n",
       " 'Rutgers University',\n",
       " 'Sapienza University of Rome',\n",
       " 'Seoul National University',\n",
       " 'Shanghai Jiao Tong University',\n",
       " 'Shenzhen University',\n",
       " 'Sichuan University',\n",
       " 'Singapore University of Technology & Design',\n",
       " 'Sorbonne University',\n",
       " 'South China University of Technology',\n",
       " 'Southeast University',\n",
       " 'Stanford University',\n",
       " 'Sun Yat-sen University',\n",
       " 'Swinburne University of Technology',\n",
       " 'Swiss Federal Institute of Technology Lausanne (EPFL)',\n",
       " 'TU Wien',\n",
       " 'Technical University of Berlin',\n",
       " 'Technical University of Darmstadt',\n",
       " 'Technical University of Denmark',\n",
       " 'Technical University of Munich',\n",
       " 'Tecnológico de Monterrey',\n",
       " 'The Australian National University',\n",
       " 'The Chinese University of Hong Kong',\n",
       " 'The Hong Kong Polytechnic University',\n",
       " 'The Hong Kong University of Science and Technology',\n",
       " 'The University of Adelaide',\n",
       " 'The University of Texas at Austin',\n",
       " 'Tianjin University',\n",
       " 'Tongji University',\n",
       " 'Trinity College Dublin',\n",
       " 'Tsinghua University',\n",
       " 'Universidade de São Paulo',\n",
       " 'Universiti Malaya (UM)',\n",
       " 'University College London (UCL)',\n",
       " 'University of Adelaide',\n",
       " 'University of Alberta',\n",
       " 'University of Amsterdam',\n",
       " 'University of Bologna',\n",
       " 'University of Bonn',\n",
       " 'University of British Columbia',\n",
       " 'University of California, Berkeley',\n",
       " 'University of California, Davis',\n",
       " 'University of California, Irvine',\n",
       " 'University of California, Los Angeles (UCLA)',\n",
       " 'University of California, San Diego (UCSD)',\n",
       " 'University of California, Santa Barbara',\n",
       " 'University of Cambridge',\n",
       " 'University of Chicago',\n",
       " 'University of Copenhagen',\n",
       " 'University of Edinburgh',\n",
       " 'University of Electronic Science and Technology of China',\n",
       " 'University of Freiburg',\n",
       " 'University of Hong Kong',\n",
       " 'University of Illinois at Urbana-Champaign',\n",
       " 'University of Macau',\n",
       " 'University of Manchester',\n",
       " 'University of Maryland',\n",
       " 'University of Massachusetts (UMass)',\n",
       " 'University of Melbourne',\n",
       " 'University of Michigan-Ann Arbor',\n",
       " 'University of Montreal',\n",
       " 'University of New South Wales (UNSW Sydney)',\n",
       " 'University of North Carolina at Chapel Hill',\n",
       " 'University of Oslo',\n",
       " 'University of Oxford',\n",
       " 'University of Pennsylvania',\n",
       " 'University of Science and Technology of China',\n",
       " 'University of Southern California',\n",
       " 'University of Surrey',\n",
       " 'University of Sydney',\n",
       " 'University of Technology Sydney',\n",
       " 'University of Texas at Austin',\n",
       " 'University of Tokyo',\n",
       " 'University of Toronto',\n",
       " 'University of Warsaw',\n",
       " 'University of Warwick',\n",
       " 'University of Washington',\n",
       " 'University of Waterloo',\n",
       " 'University of Wisconsin–Madison',\n",
       " 'Université Grenoble Alpes',\n",
       " 'Virginia Polytechnic Institute and State University',\n",
       " 'Weizmann Institute of Science',\n",
       " 'Wuhan University',\n",
       " \"Xi'an Jiaotong University\",\n",
       " 'Xiamen University',\n",
       " 'Xidian University',\n",
       " 'Xi’an Jiaotong University',\n",
       " 'Yale University',\n",
       " 'Yonsei University',\n",
       " 'Zhejiang University'}"
      ]
     },
     "execution_count": 9,
     "metadata": {},
     "output_type": "execute_result"
    }
   ],
   "source": [
    "def normalize(ranking: list[Uni], normalizer: dict[str, str]):\n",
    "    \"\"\"Normalize university names.\"\"\"\n",
    "    for uni in ranking:\n",
    "        uni.name = normalizer.get(uni.name, uni.name)\n",
    "\n",
    "normalize(qs, alt2main)        \n",
    "normalize(the, alt2main)\n",
    "normalize(arwu, alt2main)\n",
    "\n",
    "{u.name for u in qs} | {u.name for u in the} | {u.name for u in arwu}"
   ]
  },
  {
   "cell_type": "markdown",
   "id": "2d2aa59a-6fe8-4843-8ea1-c82bd9c8d7cb",
   "metadata": {},
   "source": [
    "## Combine Rankings"
   ]
  },
  {
   "cell_type": "code",
   "execution_count": 10,
   "id": "1c6cea26-807a-4b5e-a9a2-c18cbc98f747",
   "metadata": {},
   "outputs": [],
   "source": [
    "uni2ranks = defaultdict(list)\n",
    "for ranking in [qs, the, arwu]:\n",
    "    for uni in ranking:\n",
    "        uni2ranks[uni.name].append(uni.rank)\n",
    "\n",
    "uni2ranks = dict(uni2ranks)"
   ]
  },
  {
   "cell_type": "code",
   "execution_count": 11,
   "id": "279f2d93-8092-4f72-a44a-38ef9f43b255",
   "metadata": {},
   "outputs": [
    {
     "data": {
      "text/plain": [
       "[51, 101, 101]"
      ]
     },
     "execution_count": 11,
     "metadata": {},
     "output_type": "execute_result"
    }
   ],
   "source": [
    "for _, ranks in uni2ranks.items():\n",
    "    while len(ranks) < 3:\n",
    "        ranks.append(101)  # Best possible rank when not in top 100\n",
    "uni2ranks[\"University of Alberta\"]"
   ]
  },
  {
   "cell_type": "code",
   "execution_count": 12,
   "id": "6d9a96c4-c4ff-44c8-be30-f49698db204d",
   "metadata": {},
   "outputs": [],
   "source": [
    "combined_ranking = [Uni(uni, mean(ranks)) for uni, ranks in uni2ranks.items()]\n",
    "combined_ranking.sort(key=lambda uni: uni.rank)  # Smaller to larger rank"
   ]
  },
  {
   "cell_type": "markdown",
   "id": "ef75aae5-bdba-4ec9-b219-0525893f21dc",
   "metadata": {},
   "source": [
    "## Save Combined Ranking"
   ]
  },
  {
   "cell_type": "code",
   "execution_count": 15,
   "id": "e53a9455-39c9-4d12-9782-ff60dac86424",
   "metadata": {},
   "outputs": [
    {
     "name": "stdout",
     "output_type": "stream",
     "text": [
      "1\tMassachusetts Institute of Technology (MIT)\t1.33\n",
      "\n",
      "2\tStanford University\t2.67\n",
      "\n",
      "3\tCarnegie Mellon University (CMU)\t3.67\n",
      "\n",
      "4\tUniversity of California, Berkeley\t5.00\n",
      "\n",
      "5\tUniversity of Oxford\t5.00\n",
      "\n",
      "6\tETH Zurich\t6.67\n",
      "\n",
      "7\tHarvard University\t7.67\n",
      "\n",
      "8\tNational University of Singapore (NUS)\t8.67\n",
      "\n",
      "9\tNanyang Technological University (NTU)\t11.00\n",
      "\n",
      "10\tPrinceton University\t11.33\n",
      "\n"
     ]
    }
   ],
   "source": [
    "def save_ranking(ranking: list[Uni], limit: int = None) -> None:\n",
    "    \"\"\"Save ranking to file.\"\"\"\n",
    "    with open(f\"combined_ranking_{subject}_{year}.tsv\", \"w\") as file:\n",
    "        for i, uni in enumerate(ranking, start=1):\n",
    "            row = f\"{i}\\t{uni.name}\\t{uni.rank:.2f}\\n\"\n",
    "            print(row)  # Preview\n",
    "            file.write(row)            \n",
    "            if i == limit:\n",
    "                break\n",
    "\n",
    "save_ranking(combined_ranking, 10)"
   ]
  },
  {
   "cell_type": "markdown",
   "id": "14a09601-b13f-4482-888c-9d2977cc40a7",
   "metadata": {},
   "source": [
    "## Get IDs"
   ]
  },
  {
   "cell_type": "code",
   "execution_count": 14,
   "id": "e22b7ee7-f970-4def-93a2-0da55f8c4443",
   "metadata": {},
   "outputs": [
    {
     "name": "stdout",
     "output_type": "stream",
     "text": [
      "Unis without id: ['University of Southern California']\n",
      "\n",
      "$top_unis_cs_2023 =[39, 1, 40, 3, 1092, 288, 38, 72, 170, 6, 168, 8, 225, 33, 692, 159, 978, 1043, 15, 238, 12, 14, 483, 16, 384, 74, 17, 2027, 1458, 2444, 31, 4, 49, 2, 399, 977, 9, 5, 22, 11, 918, 794, 813, 24, 86, 99, 2244, 233, 327, 888, 930, 268, 48, 119, 69, 632, 405, 117, 98, 350]\n"
     ]
    }
   ],
   "source": [
    "def get_ids(unis: list[str], uni2id: dict[str, str], limit: int = None) -> list[int]:\n",
    "    \"\"\"Return IDs corresponding to universities.\"\"\"\n",
    "    ids = []\n",
    "    no_id = []\n",
    "    for uni in unis:\n",
    "        if uni in uni2id:\n",
    "            ids.append(uni2id[uni])\n",
    "        else:\n",
    "            no_id.append(uni)\n",
    "        if len(ids) == limit:\n",
    "            return ids, no_id\n",
    "\n",
    "ids, no_id = get_ids([uni.name for uni in combined_ranking], uni2id=uni2id, limit=60)\n",
    "\n",
    "print(f\"Unis without id: {no_id}\")\n",
    "print()\n",
    "print(f\"$top_unis_cs_2023 ={ids}\")"
   ]
  }
 ],
 "metadata": {
  "kernelspec": {
   "display_name": "Python 3 (ipykernel)",
   "language": "python",
   "name": "python3"
  },
  "language_info": {
   "codemirror_mode": {
    "name": "ipython",
    "version": 3
   },
   "file_extension": ".py",
   "mimetype": "text/x-python",
   "name": "python",
   "nbconvert_exporter": "python",
   "pygments_lexer": "ipython3",
   "version": "3.9.16"
  }
 },
 "nbformat": 4,
 "nbformat_minor": 5
}
